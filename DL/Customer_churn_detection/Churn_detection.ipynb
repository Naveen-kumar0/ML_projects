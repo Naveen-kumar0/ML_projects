{
 "cells": [
  {
   "cell_type": "code",
   "execution_count": 87,
   "id": "7beba0a7",
   "metadata": {},
   "outputs": [],
   "source": [
    "import tensorflow\n",
    "import numpy as np\n",
    "import pandas as pd\n",
    "import matplotlib.pyplot as plt\n",
    "%matplotlib inline"
   ]
  },
  {
   "cell_type": "code",
   "execution_count": 88,
   "id": "72056ab4",
   "metadata": {},
   "outputs": [
    {
     "data": {
      "text/html": [
       "<div>\n",
       "<style scoped>\n",
       "    .dataframe tbody tr th:only-of-type {\n",
       "        vertical-align: middle;\n",
       "    }\n",
       "\n",
       "    .dataframe tbody tr th {\n",
       "        vertical-align: top;\n",
       "    }\n",
       "\n",
       "    .dataframe thead th {\n",
       "        text-align: right;\n",
       "    }\n",
       "</style>\n",
       "<table border=\"1\" class=\"dataframe\">\n",
       "  <thead>\n",
       "    <tr style=\"text-align: right;\">\n",
       "      <th></th>\n",
       "      <th>customerID</th>\n",
       "      <th>gender</th>\n",
       "      <th>SeniorCitizen</th>\n",
       "      <th>Partner</th>\n",
       "      <th>Dependents</th>\n",
       "      <th>tenure</th>\n",
       "      <th>PhoneService</th>\n",
       "      <th>MultipleLines</th>\n",
       "      <th>InternetService</th>\n",
       "      <th>OnlineSecurity</th>\n",
       "      <th>...</th>\n",
       "      <th>DeviceProtection</th>\n",
       "      <th>TechSupport</th>\n",
       "      <th>StreamingTV</th>\n",
       "      <th>StreamingMovies</th>\n",
       "      <th>Contract</th>\n",
       "      <th>PaperlessBilling</th>\n",
       "      <th>PaymentMethod</th>\n",
       "      <th>MonthlyCharges</th>\n",
       "      <th>TotalCharges</th>\n",
       "      <th>Churn</th>\n",
       "    </tr>\n",
       "  </thead>\n",
       "  <tbody>\n",
       "    <tr>\n",
       "      <th>0</th>\n",
       "      <td>7590-VHVEG</td>\n",
       "      <td>Female</td>\n",
       "      <td>0</td>\n",
       "      <td>Yes</td>\n",
       "      <td>No</td>\n",
       "      <td>1</td>\n",
       "      <td>No</td>\n",
       "      <td>No phone service</td>\n",
       "      <td>DSL</td>\n",
       "      <td>No</td>\n",
       "      <td>...</td>\n",
       "      <td>No</td>\n",
       "      <td>No</td>\n",
       "      <td>No</td>\n",
       "      <td>No</td>\n",
       "      <td>Month-to-month</td>\n",
       "      <td>Yes</td>\n",
       "      <td>Electronic check</td>\n",
       "      <td>29.85</td>\n",
       "      <td>29.85</td>\n",
       "      <td>No</td>\n",
       "    </tr>\n",
       "    <tr>\n",
       "      <th>1</th>\n",
       "      <td>5575-GNVDE</td>\n",
       "      <td>Male</td>\n",
       "      <td>0</td>\n",
       "      <td>No</td>\n",
       "      <td>No</td>\n",
       "      <td>34</td>\n",
       "      <td>Yes</td>\n",
       "      <td>No</td>\n",
       "      <td>DSL</td>\n",
       "      <td>Yes</td>\n",
       "      <td>...</td>\n",
       "      <td>Yes</td>\n",
       "      <td>No</td>\n",
       "      <td>No</td>\n",
       "      <td>No</td>\n",
       "      <td>One year</td>\n",
       "      <td>No</td>\n",
       "      <td>Mailed check</td>\n",
       "      <td>56.95</td>\n",
       "      <td>1889.5</td>\n",
       "      <td>No</td>\n",
       "    </tr>\n",
       "    <tr>\n",
       "      <th>2</th>\n",
       "      <td>3668-QPYBK</td>\n",
       "      <td>Male</td>\n",
       "      <td>0</td>\n",
       "      <td>No</td>\n",
       "      <td>No</td>\n",
       "      <td>2</td>\n",
       "      <td>Yes</td>\n",
       "      <td>No</td>\n",
       "      <td>DSL</td>\n",
       "      <td>Yes</td>\n",
       "      <td>...</td>\n",
       "      <td>No</td>\n",
       "      <td>No</td>\n",
       "      <td>No</td>\n",
       "      <td>No</td>\n",
       "      <td>Month-to-month</td>\n",
       "      <td>Yes</td>\n",
       "      <td>Mailed check</td>\n",
       "      <td>53.85</td>\n",
       "      <td>108.15</td>\n",
       "      <td>Yes</td>\n",
       "    </tr>\n",
       "    <tr>\n",
       "      <th>3</th>\n",
       "      <td>7795-CFOCW</td>\n",
       "      <td>Male</td>\n",
       "      <td>0</td>\n",
       "      <td>No</td>\n",
       "      <td>No</td>\n",
       "      <td>45</td>\n",
       "      <td>No</td>\n",
       "      <td>No phone service</td>\n",
       "      <td>DSL</td>\n",
       "      <td>Yes</td>\n",
       "      <td>...</td>\n",
       "      <td>Yes</td>\n",
       "      <td>Yes</td>\n",
       "      <td>No</td>\n",
       "      <td>No</td>\n",
       "      <td>One year</td>\n",
       "      <td>No</td>\n",
       "      <td>Bank transfer (automatic)</td>\n",
       "      <td>42.30</td>\n",
       "      <td>1840.75</td>\n",
       "      <td>No</td>\n",
       "    </tr>\n",
       "    <tr>\n",
       "      <th>4</th>\n",
       "      <td>9237-HQITU</td>\n",
       "      <td>Female</td>\n",
       "      <td>0</td>\n",
       "      <td>No</td>\n",
       "      <td>No</td>\n",
       "      <td>2</td>\n",
       "      <td>Yes</td>\n",
       "      <td>No</td>\n",
       "      <td>Fiber optic</td>\n",
       "      <td>No</td>\n",
       "      <td>...</td>\n",
       "      <td>No</td>\n",
       "      <td>No</td>\n",
       "      <td>No</td>\n",
       "      <td>No</td>\n",
       "      <td>Month-to-month</td>\n",
       "      <td>Yes</td>\n",
       "      <td>Electronic check</td>\n",
       "      <td>70.70</td>\n",
       "      <td>151.65</td>\n",
       "      <td>Yes</td>\n",
       "    </tr>\n",
       "  </tbody>\n",
       "</table>\n",
       "<p>5 rows × 21 columns</p>\n",
       "</div>"
      ],
      "text/plain": [
       "   customerID  gender  SeniorCitizen Partner Dependents  tenure PhoneService  \\\n",
       "0  7590-VHVEG  Female              0     Yes         No       1           No   \n",
       "1  5575-GNVDE    Male              0      No         No      34          Yes   \n",
       "2  3668-QPYBK    Male              0      No         No       2          Yes   \n",
       "3  7795-CFOCW    Male              0      No         No      45           No   \n",
       "4  9237-HQITU  Female              0      No         No       2          Yes   \n",
       "\n",
       "      MultipleLines InternetService OnlineSecurity  ... DeviceProtection  \\\n",
       "0  No phone service             DSL             No  ...               No   \n",
       "1                No             DSL            Yes  ...              Yes   \n",
       "2                No             DSL            Yes  ...               No   \n",
       "3  No phone service             DSL            Yes  ...              Yes   \n",
       "4                No     Fiber optic             No  ...               No   \n",
       "\n",
       "  TechSupport StreamingTV StreamingMovies        Contract PaperlessBilling  \\\n",
       "0          No          No              No  Month-to-month              Yes   \n",
       "1          No          No              No        One year               No   \n",
       "2          No          No              No  Month-to-month              Yes   \n",
       "3         Yes          No              No        One year               No   \n",
       "4          No          No              No  Month-to-month              Yes   \n",
       "\n",
       "               PaymentMethod MonthlyCharges  TotalCharges Churn  \n",
       "0           Electronic check          29.85         29.85    No  \n",
       "1               Mailed check          56.95        1889.5    No  \n",
       "2               Mailed check          53.85        108.15   Yes  \n",
       "3  Bank transfer (automatic)          42.30       1840.75    No  \n",
       "4           Electronic check          70.70        151.65   Yes  \n",
       "\n",
       "[5 rows x 21 columns]"
      ]
     },
     "execution_count": 88,
     "metadata": {},
     "output_type": "execute_result"
    }
   ],
   "source": [
    "df=pd.read_csv(\"Telco-Customer-Churn.csv\")\n",
    "df.head()"
   ]
  },
  {
   "cell_type": "code",
   "execution_count": 89,
   "id": "60926693",
   "metadata": {},
   "outputs": [],
   "source": [
    "df=df.drop(\"customerID\",axis=1)"
   ]
  },
  {
   "cell_type": "code",
   "execution_count": 90,
   "id": "714280ec",
   "metadata": {},
   "outputs": [
    {
     "data": {
      "text/html": [
       "<div>\n",
       "<style scoped>\n",
       "    .dataframe tbody tr th:only-of-type {\n",
       "        vertical-align: middle;\n",
       "    }\n",
       "\n",
       "    .dataframe tbody tr th {\n",
       "        vertical-align: top;\n",
       "    }\n",
       "\n",
       "    .dataframe thead th {\n",
       "        text-align: right;\n",
       "    }\n",
       "</style>\n",
       "<table border=\"1\" class=\"dataframe\">\n",
       "  <thead>\n",
       "    <tr style=\"text-align: right;\">\n",
       "      <th></th>\n",
       "      <th>gender</th>\n",
       "      <th>SeniorCitizen</th>\n",
       "      <th>Partner</th>\n",
       "      <th>Dependents</th>\n",
       "      <th>tenure</th>\n",
       "      <th>PhoneService</th>\n",
       "      <th>MultipleLines</th>\n",
       "      <th>InternetService</th>\n",
       "      <th>OnlineSecurity</th>\n",
       "      <th>OnlineBackup</th>\n",
       "      <th>DeviceProtection</th>\n",
       "      <th>TechSupport</th>\n",
       "      <th>StreamingTV</th>\n",
       "      <th>StreamingMovies</th>\n",
       "      <th>Contract</th>\n",
       "      <th>PaperlessBilling</th>\n",
       "      <th>PaymentMethod</th>\n",
       "      <th>MonthlyCharges</th>\n",
       "      <th>TotalCharges</th>\n",
       "      <th>Churn</th>\n",
       "    </tr>\n",
       "  </thead>\n",
       "  <tbody>\n",
       "    <tr>\n",
       "      <th>0</th>\n",
       "      <td>Female</td>\n",
       "      <td>0</td>\n",
       "      <td>Yes</td>\n",
       "      <td>No</td>\n",
       "      <td>1</td>\n",
       "      <td>No</td>\n",
       "      <td>No phone service</td>\n",
       "      <td>DSL</td>\n",
       "      <td>No</td>\n",
       "      <td>Yes</td>\n",
       "      <td>No</td>\n",
       "      <td>No</td>\n",
       "      <td>No</td>\n",
       "      <td>No</td>\n",
       "      <td>Month-to-month</td>\n",
       "      <td>Yes</td>\n",
       "      <td>Electronic check</td>\n",
       "      <td>29.85</td>\n",
       "      <td>29.85</td>\n",
       "      <td>No</td>\n",
       "    </tr>\n",
       "    <tr>\n",
       "      <th>1</th>\n",
       "      <td>Male</td>\n",
       "      <td>0</td>\n",
       "      <td>No</td>\n",
       "      <td>No</td>\n",
       "      <td>34</td>\n",
       "      <td>Yes</td>\n",
       "      <td>No</td>\n",
       "      <td>DSL</td>\n",
       "      <td>Yes</td>\n",
       "      <td>No</td>\n",
       "      <td>Yes</td>\n",
       "      <td>No</td>\n",
       "      <td>No</td>\n",
       "      <td>No</td>\n",
       "      <td>One year</td>\n",
       "      <td>No</td>\n",
       "      <td>Mailed check</td>\n",
       "      <td>56.95</td>\n",
       "      <td>1889.5</td>\n",
       "      <td>No</td>\n",
       "    </tr>\n",
       "    <tr>\n",
       "      <th>2</th>\n",
       "      <td>Male</td>\n",
       "      <td>0</td>\n",
       "      <td>No</td>\n",
       "      <td>No</td>\n",
       "      <td>2</td>\n",
       "      <td>Yes</td>\n",
       "      <td>No</td>\n",
       "      <td>DSL</td>\n",
       "      <td>Yes</td>\n",
       "      <td>Yes</td>\n",
       "      <td>No</td>\n",
       "      <td>No</td>\n",
       "      <td>No</td>\n",
       "      <td>No</td>\n",
       "      <td>Month-to-month</td>\n",
       "      <td>Yes</td>\n",
       "      <td>Mailed check</td>\n",
       "      <td>53.85</td>\n",
       "      <td>108.15</td>\n",
       "      <td>Yes</td>\n",
       "    </tr>\n",
       "    <tr>\n",
       "      <th>3</th>\n",
       "      <td>Male</td>\n",
       "      <td>0</td>\n",
       "      <td>No</td>\n",
       "      <td>No</td>\n",
       "      <td>45</td>\n",
       "      <td>No</td>\n",
       "      <td>No phone service</td>\n",
       "      <td>DSL</td>\n",
       "      <td>Yes</td>\n",
       "      <td>No</td>\n",
       "      <td>Yes</td>\n",
       "      <td>Yes</td>\n",
       "      <td>No</td>\n",
       "      <td>No</td>\n",
       "      <td>One year</td>\n",
       "      <td>No</td>\n",
       "      <td>Bank transfer (automatic)</td>\n",
       "      <td>42.30</td>\n",
       "      <td>1840.75</td>\n",
       "      <td>No</td>\n",
       "    </tr>\n",
       "    <tr>\n",
       "      <th>4</th>\n",
       "      <td>Female</td>\n",
       "      <td>0</td>\n",
       "      <td>No</td>\n",
       "      <td>No</td>\n",
       "      <td>2</td>\n",
       "      <td>Yes</td>\n",
       "      <td>No</td>\n",
       "      <td>Fiber optic</td>\n",
       "      <td>No</td>\n",
       "      <td>No</td>\n",
       "      <td>No</td>\n",
       "      <td>No</td>\n",
       "      <td>No</td>\n",
       "      <td>No</td>\n",
       "      <td>Month-to-month</td>\n",
       "      <td>Yes</td>\n",
       "      <td>Electronic check</td>\n",
       "      <td>70.70</td>\n",
       "      <td>151.65</td>\n",
       "      <td>Yes</td>\n",
       "    </tr>\n",
       "  </tbody>\n",
       "</table>\n",
       "</div>"
      ],
      "text/plain": [
       "   gender  SeniorCitizen Partner Dependents  tenure PhoneService  \\\n",
       "0  Female              0     Yes         No       1           No   \n",
       "1    Male              0      No         No      34          Yes   \n",
       "2    Male              0      No         No       2          Yes   \n",
       "3    Male              0      No         No      45           No   \n",
       "4  Female              0      No         No       2          Yes   \n",
       "\n",
       "      MultipleLines InternetService OnlineSecurity OnlineBackup  \\\n",
       "0  No phone service             DSL             No          Yes   \n",
       "1                No             DSL            Yes           No   \n",
       "2                No             DSL            Yes          Yes   \n",
       "3  No phone service             DSL            Yes           No   \n",
       "4                No     Fiber optic             No           No   \n",
       "\n",
       "  DeviceProtection TechSupport StreamingTV StreamingMovies        Contract  \\\n",
       "0               No          No          No              No  Month-to-month   \n",
       "1              Yes          No          No              No        One year   \n",
       "2               No          No          No              No  Month-to-month   \n",
       "3              Yes         Yes          No              No        One year   \n",
       "4               No          No          No              No  Month-to-month   \n",
       "\n",
       "  PaperlessBilling              PaymentMethod  MonthlyCharges TotalCharges  \\\n",
       "0              Yes           Electronic check           29.85        29.85   \n",
       "1               No               Mailed check           56.95       1889.5   \n",
       "2              Yes               Mailed check           53.85       108.15   \n",
       "3               No  Bank transfer (automatic)           42.30      1840.75   \n",
       "4              Yes           Electronic check           70.70       151.65   \n",
       "\n",
       "  Churn  \n",
       "0    No  \n",
       "1    No  \n",
       "2   Yes  \n",
       "3    No  \n",
       "4   Yes  "
      ]
     },
     "execution_count": 90,
     "metadata": {},
     "output_type": "execute_result"
    }
   ],
   "source": [
    "df.head()"
   ]
  },
  {
   "cell_type": "code",
   "execution_count": 91,
   "id": "eb8c2e6c",
   "metadata": {},
   "outputs": [
    {
     "data": {
      "text/plain": [
       "gender               object\n",
       "SeniorCitizen         int64\n",
       "Partner              object\n",
       "Dependents           object\n",
       "tenure                int64\n",
       "PhoneService         object\n",
       "MultipleLines        object\n",
       "InternetService      object\n",
       "OnlineSecurity       object\n",
       "OnlineBackup         object\n",
       "DeviceProtection     object\n",
       "TechSupport          object\n",
       "StreamingTV          object\n",
       "StreamingMovies      object\n",
       "Contract             object\n",
       "PaperlessBilling     object\n",
       "PaymentMethod        object\n",
       "MonthlyCharges      float64\n",
       "TotalCharges         object\n",
       "Churn                object\n",
       "dtype: object"
      ]
     },
     "execution_count": 91,
     "metadata": {},
     "output_type": "execute_result"
    }
   ],
   "source": [
    "df.dtypes"
   ]
  },
  {
   "cell_type": "code",
   "execution_count": 92,
   "id": "6257fe89",
   "metadata": {},
   "outputs": [
    {
     "data": {
      "text/plain": [
       "0         29.85\n",
       "1       1889.50\n",
       "2        108.15\n",
       "3       1840.75\n",
       "4        151.65\n",
       "         ...   \n",
       "7038    1990.50\n",
       "7039    7362.90\n",
       "7040     346.45\n",
       "7041     306.60\n",
       "7042    6844.50\n",
       "Name: TotalCharges, Length: 7043, dtype: float64"
      ]
     },
     "execution_count": 92,
     "metadata": {},
     "output_type": "execute_result"
    }
   ],
   "source": [
    "pd.to_numeric(df[\"TotalCharges\"],errors=\"coerce\")"
   ]
  },
  {
   "cell_type": "code",
   "execution_count": 93,
   "id": "18840aaa",
   "metadata": {},
   "outputs": [
    {
     "data": {
      "text/plain": [
       "gender               object\n",
       "SeniorCitizen         int64\n",
       "Partner              object\n",
       "Dependents           object\n",
       "tenure                int64\n",
       "PhoneService         object\n",
       "MultipleLines        object\n",
       "InternetService      object\n",
       "OnlineSecurity       object\n",
       "OnlineBackup         object\n",
       "DeviceProtection     object\n",
       "TechSupport          object\n",
       "StreamingTV          object\n",
       "StreamingMovies      object\n",
       "Contract             object\n",
       "PaperlessBilling     object\n",
       "PaymentMethod        object\n",
       "MonthlyCharges      float64\n",
       "TotalCharges         object\n",
       "Churn                object\n",
       "dtype: object"
      ]
     },
     "execution_count": 93,
     "metadata": {},
     "output_type": "execute_result"
    }
   ],
   "source": [
    "df.dtypes"
   ]
  },
  {
   "cell_type": "code",
   "execution_count": 94,
   "id": "ae606053",
   "metadata": {},
   "outputs": [
    {
     "data": {
      "text/plain": [
       "gender                                 Female\n",
       "SeniorCitizen                               0\n",
       "Partner                                   Yes\n",
       "Dependents                                Yes\n",
       "tenure                                      0\n",
       "PhoneService                               No\n",
       "MultipleLines                No phone service\n",
       "InternetService                           DSL\n",
       "OnlineSecurity                            Yes\n",
       "OnlineBackup                               No\n",
       "DeviceProtection                          Yes\n",
       "TechSupport                               Yes\n",
       "StreamingTV                               Yes\n",
       "StreamingMovies                            No\n",
       "Contract                             Two year\n",
       "PaperlessBilling                          Yes\n",
       "PaymentMethod       Bank transfer (automatic)\n",
       "MonthlyCharges                          52.55\n",
       "TotalCharges                                 \n",
       "Churn                                      No\n",
       "Name: 488, dtype: object"
      ]
     },
     "execution_count": 94,
     "metadata": {},
     "output_type": "execute_result"
    }
   ],
   "source": [
    "df.iloc[488]"
   ]
  },
  {
   "cell_type": "code",
   "execution_count": 95,
   "id": "19e2a981",
   "metadata": {},
   "outputs": [],
   "source": [
    "df1=df[df.TotalCharges!=\" \"]"
   ]
  },
  {
   "cell_type": "code",
   "execution_count": 96,
   "id": "96cfc2d4",
   "metadata": {},
   "outputs": [
    {
     "data": {
      "text/plain": [
       "'74.35'"
      ]
     },
     "execution_count": 96,
     "metadata": {},
     "output_type": "execute_result"
    }
   ],
   "source": [
    "df1.iloc[488].TotalCharges"
   ]
  },
  {
   "cell_type": "code",
   "execution_count": 97,
   "id": "baccc77f",
   "metadata": {},
   "outputs": [
    {
     "data": {
      "text/plain": [
       "0"
      ]
     },
     "execution_count": 97,
     "metadata": {},
     "output_type": "execute_result"
    }
   ],
   "source": [
    "df1[\"TotalCharges\"].isnull().sum()"
   ]
  },
  {
   "cell_type": "code",
   "execution_count": 98,
   "id": "6d466aa2",
   "metadata": {},
   "outputs": [
    {
     "name": "stderr",
     "output_type": "stream",
     "text": [
      "C:\\Users\\Naveen\\AppData\\Local\\Temp\\ipykernel_24856\\1161862034.py:1: SettingWithCopyWarning: \n",
      "A value is trying to be set on a copy of a slice from a DataFrame.\n",
      "Try using .loc[row_indexer,col_indexer] = value instead\n",
      "\n",
      "See the caveats in the documentation: https://pandas.pydata.org/pandas-docs/stable/user_guide/indexing.html#returning-a-view-versus-a-copy\n",
      "  df1[\"TotalCharges\"]=pd.to_numeric(df1[\"TotalCharges\"])\n"
     ]
    }
   ],
   "source": [
    "df1[\"TotalCharges\"]=pd.to_numeric(df1[\"TotalCharges\"])"
   ]
  },
  {
   "cell_type": "code",
   "execution_count": 99,
   "id": "d1d7189b",
   "metadata": {},
   "outputs": [
    {
     "data": {
      "text/plain": [
       "<matplotlib.legend.Legend at 0x22214a28bd0>"
      ]
     },
     "execution_count": 99,
     "metadata": {},
     "output_type": "execute_result"
    },
    {
     "data": {
      "image/png": "[encoded data removed]",
      "text/plain": [
       "<Figure size 640x480 with 1 Axes>"
      ]
     },
     "metadata": {},
     "output_type": "display_data"
    }
   ],
   "source": [
    "mc_churn_no=df1[df1[\"Churn\"]==\"No\"].MonthlyCharges\n",
    "mc_churn_yes=df1[df1[\"Churn\"]==\"Yes\"].MonthlyCharges\n",
    "plt.xlabel(\"Monthly Charges\")\n",
    "plt.ylabel(\"No of Customers\")\n",
    "plt.hist([mc_churn_yes,mc_churn_no],color=[\"green\",\"red\"],label=[\"Churn=Yes\",\"Churn=No\"])\n",
    "plt.legend()"
   ]
  },
  {
   "cell_type": "code",
   "execution_count": 100,
   "id": "4fe75509",
   "metadata": {},
   "outputs": [],
   "source": [
    "def show_df_unique(df):\n",
    "    for col in df:\n",
    "        if df[col].dtypes==\"object\":\n",
    "            print(col,df[col].unique())"
   ]
  },
  {
   "cell_type": "code",
   "execution_count": 101,
   "id": "000472c8",
   "metadata": {},
   "outputs": [
    {
     "name": "stdout",
     "output_type": "stream",
     "text": [
      "gender ['Female' 'Male']\n",
      "Partner ['Yes' 'No']\n",
      "Dependents ['No' 'Yes']\n",
      "PhoneService ['No' 'Yes']\n",
      "MultipleLines ['No phone service' 'No' 'Yes']\n",
      "InternetService ['DSL' 'Fiber optic' 'No']\n",
      "OnlineSecurity ['No' 'Yes' 'No internet service']\n",
      "OnlineBackup ['Yes' 'No' 'No internet service']\n",
      "DeviceProtection ['No' 'Yes' 'No internet service']\n",
      "TechSupport ['No' 'Yes' 'No internet service']\n",
      "StreamingTV ['No' 'Yes' 'No internet service']\n",
      "StreamingMovies ['No' 'Yes' 'No internet service']\n",
      "Contract ['Month-to-month' 'One year' 'Two year']\n",
      "PaperlessBilling ['Yes' 'No']\n",
      "PaymentMethod ['Electronic check' 'Mailed check' 'Bank transfer (automatic)'\n",
      " 'Credit card (automatic)']\n",
      "Churn ['No' 'Yes']\n"
     ]
    }
   ],
   "source": [
    "show_df_unique(df1)"
   ]
  },
  {
   "cell_type": "code",
   "execution_count": 102,
   "id": "5111e744",
   "metadata": {},
   "outputs": [
    {
     "name": "stderr",
     "output_type": "stream",
     "text": [
      "C:\\Users\\Naveen\\AppData\\Local\\Temp\\ipykernel_24856\\1487029042.py:1: SettingWithCopyWarning: \n",
      "A value is trying to be set on a copy of a slice from a DataFrame.\n",
      "Try using .loc[row_indexer,col_indexer] = value instead\n",
      "\n",
      "See the caveats in the documentation: https://pandas.pydata.org/pandas-docs/stable/user_guide/indexing.html#returning-a-view-versus-a-copy\n",
      "  df1[df1[\"MultipleLines\"]==\"No phone service\"].MultipleLines=\"No\"\n"
     ]
    }
   ],
   "source": [
    "df1[df1[\"MultipleLines\"]==\"No phone service\"].MultipleLines=\"No\""
   ]
  },
  {
   "cell_type": "code",
   "execution_count": 103,
   "id": "7be5b4d7",
   "metadata": {},
   "outputs": [],
   "source": [
    "df1=df1.replace(\"No internet service\",\"No\")"
   ]
  },
  {
   "cell_type": "code",
   "execution_count": 104,
   "id": "fda08c88",
   "metadata": {},
   "outputs": [],
   "source": [
    "df1=df1.replace(\"No phone service\",\"No\")"
   ]
  },
  {
   "cell_type": "code",
   "execution_count": 105,
   "id": "19e14294",
   "metadata": {},
   "outputs": [
    {
     "data": {
      "text/html": [
       "<div>\n",
       "<style scoped>\n",
       "    .dataframe tbody tr th:only-of-type {\n",
       "        vertical-align: middle;\n",
       "    }\n",
       "\n",
       "    .dataframe tbody tr th {\n",
       "        vertical-align: top;\n",
       "    }\n",
       "\n",
       "    .dataframe thead th {\n",
       "        text-align: right;\n",
       "    }\n",
       "</style>\n",
       "<table border=\"1\" class=\"dataframe\">\n",
       "  <thead>\n",
       "    <tr style=\"text-align: right;\">\n",
       "      <th></th>\n",
       "      <th>gender</th>\n",
       "      <th>SeniorCitizen</th>\n",
       "      <th>Partner</th>\n",
       "      <th>Dependents</th>\n",
       "      <th>tenure</th>\n",
       "      <th>PhoneService</th>\n",
       "      <th>MultipleLines</th>\n",
       "      <th>InternetService</th>\n",
       "      <th>OnlineSecurity</th>\n",
       "      <th>OnlineBackup</th>\n",
       "      <th>DeviceProtection</th>\n",
       "      <th>TechSupport</th>\n",
       "      <th>StreamingTV</th>\n",
       "      <th>StreamingMovies</th>\n",
       "      <th>Contract</th>\n",
       "      <th>PaperlessBilling</th>\n",
       "      <th>PaymentMethod</th>\n",
       "      <th>MonthlyCharges</th>\n",
       "      <th>TotalCharges</th>\n",
       "      <th>Churn</th>\n",
       "    </tr>\n",
       "  </thead>\n",
       "  <tbody>\n",
       "  </tbody>\n",
       "</table>\n",
       "</div>"
      ],
      "text/plain": [
       "Empty DataFrame\n",
       "Columns: [gender, SeniorCitizen, Partner, Dependents, tenure, PhoneService, MultipleLines, InternetService, OnlineSecurity, OnlineBackup, DeviceProtection, TechSupport, StreamingTV, StreamingMovies, Contract, PaperlessBilling, PaymentMethod, MonthlyCharges, TotalCharges, Churn]\n",
       "Index: []"
      ]
     },
     "execution_count": 105,
     "metadata": {},
     "output_type": "execute_result"
    }
   ],
   "source": [
    "df1[df1[\"MultipleLines\"]==\"No phone service\"]"
   ]
  },
  {
   "cell_type": "code",
   "execution_count": 106,
   "id": "c88b2d99",
   "metadata": {},
   "outputs": [
    {
     "name": "stdout",
     "output_type": "stream",
     "text": [
      "gender ['Female' 'Male']\n",
      "Partner ['Yes' 'No']\n",
      "Dependents ['No' 'Yes']\n",
      "PhoneService ['No' 'Yes']\n",
      "MultipleLines ['No' 'Yes']\n",
      "InternetService ['DSL' 'Fiber optic' 'No']\n",
      "OnlineSecurity ['No' 'Yes']\n",
      "OnlineBackup ['Yes' 'No']\n",
      "DeviceProtection ['No' 'Yes']\n",
      "TechSupport ['No' 'Yes']\n",
      "StreamingTV ['No' 'Yes']\n",
      "StreamingMovies ['No' 'Yes']\n",
      "Contract ['Month-to-month' 'One year' 'Two year']\n",
      "PaperlessBilling ['Yes' 'No']\n",
      "PaymentMethod ['Electronic check' 'Mailed check' 'Bank transfer (automatic)'\n",
      " 'Credit card (automatic)']\n",
      "Churn ['No' 'Yes']\n"
     ]
    }
   ],
   "source": [
    "show_df_unique(df1)"
   ]
  },
  {
   "cell_type": "code",
   "execution_count": 107,
   "id": "c1652465",
   "metadata": {},
   "outputs": [
    {
     "name": "stdout",
     "output_type": "stream",
     "text": [
      "['Partner', 'Dependents', 'PhoneService', 'MultipleLines', 'OnlineSecurity', 'OnlineBackup', 'DeviceProtection', 'TechSupport', 'StreamingTV', 'StreamingMovies', 'PaperlessBilling', 'Churn']\n",
      "0       Yes\n",
      "1        No\n",
      "2        No\n",
      "3        No\n",
      "4        No\n",
      "       ... \n",
      "7038    Yes\n",
      "7039    Yes\n",
      "7040    Yes\n",
      "7041    Yes\n",
      "7042     No\n",
      "Name: Partner, Length: 7043, dtype: object\n",
      "0        No\n",
      "1        No\n",
      "2        No\n",
      "3        No\n",
      "4        No\n",
      "       ... \n",
      "7038    Yes\n",
      "7039    Yes\n",
      "7040    Yes\n",
      "7041     No\n",
      "7042     No\n",
      "Name: Dependents, Length: 7043, dtype: object\n",
      "0        No\n",
      "1       Yes\n",
      "2       Yes\n",
      "3        No\n",
      "4       Yes\n",
      "       ... \n",
      "7038    Yes\n",
      "7039    Yes\n",
      "7040     No\n",
      "7041    Yes\n",
      "7042    Yes\n",
      "Name: PhoneService, Length: 7043, dtype: object\n",
      "0       No phone service\n",
      "1                     No\n",
      "2                     No\n",
      "3       No phone service\n",
      "4                     No\n",
      "              ...       \n",
      "7038                 Yes\n",
      "7039                 Yes\n",
      "7040    No phone service\n",
      "7041                 Yes\n",
      "7042                  No\n",
      "Name: MultipleLines, Length: 7043, dtype: object\n",
      "0        No\n",
      "1       Yes\n",
      "2       Yes\n",
      "3       Yes\n",
      "4        No\n",
      "       ... \n",
      "7038    Yes\n",
      "7039     No\n",
      "7040    Yes\n",
      "7041     No\n",
      "7042    Yes\n",
      "Name: OnlineSecurity, Length: 7043, dtype: object\n",
      "0       Yes\n",
      "1        No\n",
      "2       Yes\n",
      "3        No\n",
      "4        No\n",
      "       ... \n",
      "7038     No\n",
      "7039    Yes\n",
      "7040     No\n",
      "7041     No\n",
      "7042     No\n",
      "Name: OnlineBackup, Length: 7043, dtype: object\n",
      "0        No\n",
      "1       Yes\n",
      "2        No\n",
      "3       Yes\n",
      "4        No\n",
      "       ... \n",
      "7038    Yes\n",
      "7039    Yes\n",
      "7040     No\n",
      "7041     No\n",
      "7042    Yes\n",
      "Name: DeviceProtection, Length: 7043, dtype: object\n",
      "0        No\n",
      "1        No\n",
      "2        No\n",
      "3       Yes\n",
      "4        No\n",
      "       ... \n",
      "7038    Yes\n",
      "7039     No\n",
      "7040     No\n",
      "7041     No\n",
      "7042    Yes\n",
      "Name: TechSupport, Length: 7043, dtype: object\n",
      "0        No\n",
      "1        No\n",
      "2        No\n",
      "3        No\n",
      "4        No\n",
      "       ... \n",
      "7038    Yes\n",
      "7039    Yes\n",
      "7040     No\n",
      "7041     No\n",
      "7042    Yes\n",
      "Name: StreamingTV, Length: 7043, dtype: object\n",
      "0        No\n",
      "1        No\n",
      "2        No\n",
      "3        No\n",
      "4        No\n",
      "       ... \n",
      "7038    Yes\n",
      "7039    Yes\n",
      "7040     No\n",
      "7041     No\n",
      "7042    Yes\n",
      "Name: StreamingMovies, Length: 7043, dtype: object\n",
      "0       Yes\n",
      "1        No\n",
      "2       Yes\n",
      "3        No\n",
      "4       Yes\n",
      "       ... \n",
      "7038    Yes\n",
      "7039    Yes\n",
      "7040    Yes\n",
      "7041    Yes\n",
      "7042    Yes\n",
      "Name: PaperlessBilling, Length: 7043, dtype: object\n",
      "0        No\n",
      "1        No\n",
      "2       Yes\n",
      "3        No\n",
      "4       Yes\n",
      "       ... \n",
      "7038     No\n",
      "7039     No\n",
      "7040     No\n",
      "7041    Yes\n",
      "7042     No\n",
      "Name: Churn, Length: 7043, dtype: object\n"
     ]
    }
   ],
   "source": [
    "yes_no_columns=\"Partner Dependents PhoneService MultipleLines OnlineSecurity OnlineBackup DeviceProtection TechSupport StreamingTV StreamingMovies PaperlessBilling Churn\".split()\n",
    "print(yes_no_columns)\n",
    "for col in yes_no_columns:\n",
    "    print(df[col])\n",
    "    df1[col].replace({\"Yes\": 1,\"No\": 0},inplace=True)"
   ]
  },
  {
   "cell_type": "code",
   "execution_count": 108,
   "id": "b10f14ae",
   "metadata": {},
   "outputs": [
    {
     "name": "stdout",
     "output_type": "stream",
     "text": [
      "gender\n",
      "SeniorCitizen\n",
      "Partner\n",
      "Dependents\n",
      "tenure\n",
      "PhoneService\n",
      "MultipleLines\n",
      "InternetService\n",
      "OnlineSecurity\n",
      "OnlineBackup\n",
      "DeviceProtection\n",
      "TechSupport\n",
      "StreamingTV\n",
      "StreamingMovies\n",
      "Contract\n",
      "PaperlessBilling\n",
      "PaymentMethod\n",
      "MonthlyCharges\n",
      "TotalCharges\n",
      "Churn\n"
     ]
    }
   ],
   "source": [
    "for col in df1:\n",
    "    print(col)"
   ]
  },
  {
   "cell_type": "code",
   "execution_count": 109,
   "id": "efbc4a7d",
   "metadata": {},
   "outputs": [
    {
     "name": "stdout",
     "output_type": "stream",
     "text": [
      "gender ['Female' 'Male']\n",
      "InternetService ['DSL' 'Fiber optic' 'No']\n",
      "Contract ['Month-to-month' 'One year' 'Two year']\n",
      "PaymentMethod ['Electronic check' 'Mailed check' 'Bank transfer (automatic)'\n",
      " 'Credit card (automatic)']\n"
     ]
    }
   ],
   "source": [
    "show_df_unique(df1)"
   ]
  },
  {
   "cell_type": "code",
   "execution_count": 110,
   "id": "167018fd",
   "metadata": {},
   "outputs": [],
   "source": [
    "show_df_unique(df2)"
   ]
  },
  {
   "cell_type": "code",
   "execution_count": 111,
   "id": "26bdc484",
   "metadata": {},
   "outputs": [],
   "source": [
    "df1[\"gender\"].replace({\"Female\":1,\"Male\":0},inplace=True)"
   ]
  },
  {
   "cell_type": "code",
   "execution_count": 112,
   "id": "1e33646f",
   "metadata": {},
   "outputs": [
    {
     "data": {
      "text/plain": [
       "Index(['gender', 'SeniorCitizen', 'Partner', 'Dependents', 'tenure',\n",
       "       'PhoneService', 'MultipleLines', 'OnlineSecurity', 'OnlineBackup',\n",
       "       'DeviceProtection', 'TechSupport', 'StreamingTV', 'StreamingMovies',\n",
       "       'PaperlessBilling', 'MonthlyCharges', 'TotalCharges', 'Churn',\n",
       "       'InternetService_DSL', 'InternetService_Fiber optic',\n",
       "       'InternetService_No', 'Contract_Month-to-month', 'Contract_One year',\n",
       "       'Contract_Two year', 'PaymentMethod_Bank transfer (automatic)',\n",
       "       'PaymentMethod_Credit card (automatic)',\n",
       "       'PaymentMethod_Electronic check', 'PaymentMethod_Mailed check'],\n",
       "      dtype='object')"
      ]
     },
     "execution_count": 112,
     "metadata": {},
     "output_type": "execute_result"
    }
   ],
   "source": [
    "df2=pd.get_dummies(data=df1,columns=[\"InternetService\",\"Contract\",\"PaymentMethod\"])\n",
    "df2.columns"
   ]
  },
  {
   "cell_type": "code",
   "execution_count": 113,
   "id": "9bc2516c",
   "metadata": {},
   "outputs": [],
   "source": [
    "cols_to_scale=[\"tenure\",\"MonthlyCharges\",\"TotalCharges\"]\n",
    "from sklearn.preprocessing import MinMaxScaler\n",
    "df2[cols_to_scale]=MinMaxScaler().fit_transform(df2[cols_to_scale])"
   ]
  },
  {
   "cell_type": "code",
   "execution_count": 114,
   "id": "25942b4d",
   "metadata": {},
   "outputs": [],
   "source": [
    "x=df2.drop(\"Churn\",axis=1)\n",
    "y=df2[\"Churn\"]"
   ]
  },
  {
   "cell_type": "code",
   "execution_count": 115,
   "id": "b5c1ee97",
   "metadata": {},
   "outputs": [],
   "source": [
    "from sklearn.model_selection import train_test_split\n",
    "x_train,x_test,y_train,y_test=train_test_split(x,y,random_state=5)"
   ]
  },
  {
   "cell_type": "code",
   "execution_count": 116,
   "id": "91da18ca",
   "metadata": {},
   "outputs": [
    {
     "data": {
      "text/plain": [
       "7032"
      ]
     },
     "execution_count": 116,
     "metadata": {},
     "output_type": "execute_result"
    }
   ],
   "source": [
    "len(x)"
   ]
  },
  {
   "cell_type": "code",
   "execution_count": 117,
   "id": "9c531666",
   "metadata": {},
   "outputs": [
    {
     "data": {
      "text/plain": [
       "(5274, 1758)"
      ]
     },
     "execution_count": 117,
     "metadata": {},
     "output_type": "execute_result"
    }
   ],
   "source": [
    "len(x_train),len(x_test)"
   ]
  },
  {
   "cell_type": "code",
   "execution_count": 118,
   "id": "4529547d",
   "metadata": {},
   "outputs": [
    {
     "data": {
      "text/plain": [
       "0.75"
      ]
     },
     "execution_count": 118,
     "metadata": {},
     "output_type": "execute_result"
    }
   ],
   "source": [
    "5274/7032"
   ]
  },
  {
   "cell_type": "code",
   "execution_count": 119,
   "id": "fd6daed8",
   "metadata": {},
   "outputs": [
    {
     "data": {
      "text/plain": [
       "26"
      ]
     },
     "execution_count": 119,
     "metadata": {},
     "output_type": "execute_result"
    }
   ],
   "source": [
    "len(x_train.columns)"
   ]
  },
  {
   "cell_type": "markdown",
   "id": "93ba5b62",
   "metadata": {},
   "source": [
    "## First layer is ip layer and it is Dense layer\n",
    "We have to set no of columns=no of neurons"
   ]
  },
  {
   "cell_type": "code",
   "execution_count": 120,
   "id": "b8ba50f0",
   "metadata": {},
   "outputs": [
    {
     "data": {
      "text/plain": [
       "tensorflow.python.training.optimizer.Optimizer"
      ]
     },
     "execution_count": 120,
     "metadata": {},
     "output_type": "execute_result"
    }
   ],
   "source": [
    "tensorflow.compat.v1.train.Optimizer"
   ]
  },
  {
   "cell_type": "code",
   "execution_count": 121,
   "id": "5246e836",
   "metadata": {},
   "outputs": [],
   "source": [
    "x_train = tensorflow.convert_to_tensor(x_train, dtype=tensorflow.float32)\n",
    "y_train = tensorflow.convert_to_tensor(y_train, dtype=tensorflow.float32)\n",
    "x_test = tensorflow.convert_to_tensor(x_test, dtype=tensorflow.float32)\n",
    "y_test = tensorflow.convert_to_tensor(y_test, dtype=tensorflow.float32)"
   ]
  },
  {
   "cell_type": "code",
   "execution_count": 122,
   "id": "d5e19acf",
   "metadata": {},
   "outputs": [
    {
     "name": "stdout",
     "output_type": "stream",
     "text": [
      "Epoch 1/100\n",
      "165/165 [==============================] - 1s 2ms/step - loss: 0.4549 - accuracy: 0.7727\n",
      "Epoch 2/100\n",
      "165/165 [==============================] - 0s 2ms/step - loss: 0.4239 - accuracy: 0.7960\n",
      "Epoch 3/100\n",
      "165/165 [==============================] - 0s 2ms/step - loss: 0.4186 - accuracy: 0.7990\n",
      "Epoch 4/100\n",
      "165/165 [==============================] - 0s 2ms/step - loss: 0.4154 - accuracy: 0.8017\n",
      "Epoch 5/100\n",
      "165/165 [==============================] - 0s 2ms/step - loss: 0.4132 - accuracy: 0.8041\n",
      "Epoch 6/100\n",
      "165/165 [==============================] - 0s 2ms/step - loss: 0.4115 - accuracy: 0.8041\n",
      "Epoch 7/100\n",
      "165/165 [==============================] - 0s 2ms/step - loss: 0.4101 - accuracy: 0.8068\n",
      "Epoch 8/100\n",
      "165/165 [==============================] - 0s 2ms/step - loss: 0.4095 - accuracy: 0.8043\n",
      "Epoch 9/100\n",
      "165/165 [==============================] - 0s 2ms/step - loss: 0.4079 - accuracy: 0.8036\n",
      "Epoch 10/100\n",
      "165/165 [==============================] - 0s 2ms/step - loss: 0.4083 - accuracy: 0.8077\n",
      "Epoch 11/100\n",
      "165/165 [==============================] - 0s 2ms/step - loss: 0.4062 - accuracy: 0.8062\n",
      "Epoch 12/100\n",
      "165/165 [==============================] - 0s 2ms/step - loss: 0.4068 - accuracy: 0.8047\n",
      "Epoch 13/100\n",
      "165/165 [==============================] - 0s 2ms/step - loss: 0.4038 - accuracy: 0.8115\n",
      "Epoch 14/100\n",
      "165/165 [==============================] - 0s 2ms/step - loss: 0.4028 - accuracy: 0.8081\n",
      "Epoch 15/100\n",
      "165/165 [==============================] - 0s 2ms/step - loss: 0.4027 - accuracy: 0.8096\n",
      "Epoch 16/100\n",
      "165/165 [==============================] - 0s 2ms/step - loss: 0.4019 - accuracy: 0.8127\n",
      "Epoch 17/100\n",
      "165/165 [==============================] - 0s 2ms/step - loss: 0.4011 - accuracy: 0.8098\n",
      "Epoch 18/100\n",
      "165/165 [==============================] - 0s 2ms/step - loss: 0.4001 - accuracy: 0.8111\n",
      "Epoch 19/100\n",
      "165/165 [==============================] - 0s 2ms/step - loss: 0.4015 - accuracy: 0.8093\n",
      "Epoch 20/100\n",
      "165/165 [==============================] - 0s 2ms/step - loss: 0.4003 - accuracy: 0.8094\n",
      "Epoch 21/100\n",
      "165/165 [==============================] - 0s 2ms/step - loss: 0.3978 - accuracy: 0.8106\n",
      "Epoch 22/100\n",
      "165/165 [==============================] - 0s 2ms/step - loss: 0.3989 - accuracy: 0.8102\n",
      "Epoch 23/100\n",
      "165/165 [==============================] - 0s 2ms/step - loss: 0.3977 - accuracy: 0.8117\n",
      "Epoch 24/100\n",
      "165/165 [==============================] - 0s 2ms/step - loss: 0.3972 - accuracy: 0.8130\n",
      "Epoch 25/100\n",
      "165/165 [==============================] - 0s 2ms/step - loss: 0.3963 - accuracy: 0.8149\n",
      "Epoch 26/100\n",
      "165/165 [==============================] - 0s 2ms/step - loss: 0.3954 - accuracy: 0.8174\n",
      "Epoch 27/100\n",
      "165/165 [==============================] - 0s 2ms/step - loss: 0.3960 - accuracy: 0.8121\n",
      "Epoch 28/100\n",
      "165/165 [==============================] - 0s 2ms/step - loss: 0.3937 - accuracy: 0.8121\n",
      "Epoch 29/100\n",
      "165/165 [==============================] - 0s 2ms/step - loss: 0.3952 - accuracy: 0.8136\n",
      "Epoch 30/100\n",
      "165/165 [==============================] - 0s 2ms/step - loss: 0.3920 - accuracy: 0.8165\n",
      "Epoch 31/100\n",
      "165/165 [==============================] - 0s 2ms/step - loss: 0.3932 - accuracy: 0.8168\n",
      "Epoch 32/100\n",
      "165/165 [==============================] - 0s 2ms/step - loss: 0.3920 - accuracy: 0.8151\n",
      "Epoch 33/100\n",
      "165/165 [==============================] - 0s 2ms/step - loss: 0.3915 - accuracy: 0.8140\n",
      "Epoch 34/100\n",
      "165/165 [==============================] - 0s 2ms/step - loss: 0.3904 - accuracy: 0.8153\n",
      "Epoch 35/100\n",
      "165/165 [==============================] - 0s 2ms/step - loss: 0.3902 - accuracy: 0.8170\n",
      "Epoch 36/100\n",
      "165/165 [==============================] - 0s 2ms/step - loss: 0.3893 - accuracy: 0.8180\n",
      "Epoch 37/100\n",
      "165/165 [==============================] - 0s 2ms/step - loss: 0.3895 - accuracy: 0.8146\n",
      "Epoch 38/100\n",
      "165/165 [==============================] - 0s 2ms/step - loss: 0.3888 - accuracy: 0.8159\n",
      "Epoch 39/100\n",
      "165/165 [==============================] - 0s 2ms/step - loss: 0.3877 - accuracy: 0.8168\n",
      "Epoch 40/100\n",
      "165/165 [==============================] - 0s 2ms/step - loss: 0.3883 - accuracy: 0.8168\n",
      "Epoch 41/100\n",
      "165/165 [==============================] - 0s 2ms/step - loss: 0.3877 - accuracy: 0.8166\n",
      "Epoch 42/100\n",
      "165/165 [==============================] - 0s 2ms/step - loss: 0.3864 - accuracy: 0.8187\n",
      "Epoch 43/100\n",
      "165/165 [==============================] - 0s 2ms/step - loss: 0.3862 - accuracy: 0.8197\n",
      "Epoch 44/100\n",
      "165/165 [==============================] - 0s 2ms/step - loss: 0.3866 - accuracy: 0.8176\n",
      "Epoch 45/100\n",
      "165/165 [==============================] - 0s 2ms/step - loss: 0.3850 - accuracy: 0.8161\n",
      "Epoch 46/100\n",
      "165/165 [==============================] - 0s 2ms/step - loss: 0.3844 - accuracy: 0.8193\n",
      "Epoch 47/100\n",
      "165/165 [==============================] - 0s 2ms/step - loss: 0.3856 - accuracy: 0.8151\n",
      "Epoch 48/100\n",
      "165/165 [==============================] - 0s 2ms/step - loss: 0.3848 - accuracy: 0.8184\n",
      "Epoch 49/100\n",
      "165/165 [==============================] - 0s 2ms/step - loss: 0.3831 - accuracy: 0.8189\n",
      "Epoch 50/100\n",
      "165/165 [==============================] - 0s 2ms/step - loss: 0.3820 - accuracy: 0.8223\n",
      "Epoch 51/100\n",
      "165/165 [==============================] - 0s 2ms/step - loss: 0.3833 - accuracy: 0.8187\n",
      "Epoch 52/100\n",
      "165/165 [==============================] - 0s 2ms/step - loss: 0.3814 - accuracy: 0.8220\n",
      "Epoch 53/100\n",
      "165/165 [==============================] - 0s 2ms/step - loss: 0.3814 - accuracy: 0.8221\n",
      "Epoch 54/100\n",
      "165/165 [==============================] - 0s 2ms/step - loss: 0.3807 - accuracy: 0.8197\n",
      "Epoch 55/100\n",
      "165/165 [==============================] - 0s 2ms/step - loss: 0.3803 - accuracy: 0.8218\n",
      "Epoch 56/100\n",
      "165/165 [==============================] - 0s 2ms/step - loss: 0.3791 - accuracy: 0.8191\n",
      "Epoch 57/100\n",
      "165/165 [==============================] - 0s 2ms/step - loss: 0.3783 - accuracy: 0.8216\n",
      "Epoch 58/100\n",
      "165/165 [==============================] - 0s 2ms/step - loss: 0.3789 - accuracy: 0.8214\n",
      "Epoch 59/100\n",
      "165/165 [==============================] - 0s 2ms/step - loss: 0.3774 - accuracy: 0.8191\n",
      "Epoch 60/100\n",
      "165/165 [==============================] - 0s 2ms/step - loss: 0.3771 - accuracy: 0.8210\n",
      "Epoch 61/100\n",
      "165/165 [==============================] - 0s 2ms/step - loss: 0.3765 - accuracy: 0.8210\n",
      "Epoch 62/100\n",
      "165/165 [==============================] - 0s 2ms/step - loss: 0.3764 - accuracy: 0.8225\n",
      "Epoch 63/100\n",
      "165/165 [==============================] - 0s 2ms/step - loss: 0.3755 - accuracy: 0.8208\n",
      "Epoch 64/100\n",
      "165/165 [==============================] - 0s 2ms/step - loss: 0.3751 - accuracy: 0.8220\n",
      "Epoch 65/100\n",
      "165/165 [==============================] - 0s 2ms/step - loss: 0.3747 - accuracy: 0.8214\n",
      "Epoch 66/100\n",
      "165/165 [==============================] - 0s 2ms/step - loss: 0.3742 - accuracy: 0.8227\n",
      "Epoch 67/100\n",
      "165/165 [==============================] - 0s 2ms/step - loss: 0.3739 - accuracy: 0.8206\n",
      "Epoch 68/100\n",
      "165/165 [==============================] - 0s 2ms/step - loss: 0.3736 - accuracy: 0.8227\n",
      "Epoch 69/100\n",
      "165/165 [==============================] - 0s 2ms/step - loss: 0.3728 - accuracy: 0.8237\n",
      "Epoch 70/100\n",
      "165/165 [==============================] - 0s 2ms/step - loss: 0.3723 - accuracy: 0.8229\n",
      "Epoch 71/100\n",
      "165/165 [==============================] - 0s 2ms/step - loss: 0.3708 - accuracy: 0.8237\n",
      "Epoch 72/100\n",
      "165/165 [==============================] - 0s 2ms/step - loss: 0.3715 - accuracy: 0.8276\n",
      "Epoch 73/100\n",
      "165/165 [==============================] - 0s 2ms/step - loss: 0.3713 - accuracy: 0.8239\n",
      "Epoch 74/100\n",
      "165/165 [==============================] - 0s 2ms/step - loss: 0.3702 - accuracy: 0.8248\n",
      "Epoch 75/100\n",
      "165/165 [==============================] - 0s 2ms/step - loss: 0.3694 - accuracy: 0.8227\n",
      "Epoch 76/100\n",
      "165/165 [==============================] - 0s 2ms/step - loss: 0.3705 - accuracy: 0.8256\n",
      "Epoch 77/100\n",
      "165/165 [==============================] - 0s 2ms/step - loss: 0.3687 - accuracy: 0.8257\n",
      "Epoch 78/100\n",
      "165/165 [==============================] - 0s 2ms/step - loss: 0.3685 - accuracy: 0.8265\n",
      "Epoch 79/100\n",
      "165/165 [==============================] - 0s 2ms/step - loss: 0.3686 - accuracy: 0.8265\n",
      "Epoch 80/100\n",
      "165/165 [==============================] - 0s 2ms/step - loss: 0.3674 - accuracy: 0.8261\n",
      "Epoch 81/100\n"
     ]
    },
    {
     "name": "stdout",
     "output_type": "stream",
     "text": [
      "165/165 [==============================] - 0s 2ms/step - loss: 0.3676 - accuracy: 0.8252\n",
      "Epoch 82/100\n",
      "165/165 [==============================] - 0s 2ms/step - loss: 0.3672 - accuracy: 0.8275\n",
      "Epoch 83/100\n",
      "165/165 [==============================] - 0s 2ms/step - loss: 0.3677 - accuracy: 0.8282\n",
      "Epoch 84/100\n",
      "165/165 [==============================] - 0s 2ms/step - loss: 0.3653 - accuracy: 0.8261\n",
      "Epoch 85/100\n",
      "165/165 [==============================] - 0s 2ms/step - loss: 0.3657 - accuracy: 0.8303\n",
      "Epoch 86/100\n",
      "165/165 [==============================] - 0s 2ms/step - loss: 0.3659 - accuracy: 0.8275\n",
      "Epoch 87/100\n",
      "165/165 [==============================] - 0s 2ms/step - loss: 0.3655 - accuracy: 0.8256\n",
      "Epoch 88/100\n",
      "165/165 [==============================] - 0s 2ms/step - loss: 0.3645 - accuracy: 0.8297\n",
      "Epoch 89/100\n",
      "165/165 [==============================] - 0s 2ms/step - loss: 0.3645 - accuracy: 0.8269\n",
      "Epoch 90/100\n",
      "165/165 [==============================] - 0s 2ms/step - loss: 0.3637 - accuracy: 0.8280\n",
      "Epoch 91/100\n",
      "165/165 [==============================] - 0s 2ms/step - loss: 0.3630 - accuracy: 0.8295\n",
      "Epoch 92/100\n",
      "165/165 [==============================] - 0s 1ms/step - loss: 0.3630 - accuracy: 0.8294\n",
      "Epoch 93/100\n",
      "165/165 [==============================] - 0s 2ms/step - loss: 0.3640 - accuracy: 0.8288\n",
      "Epoch 94/100\n",
      "165/165 [==============================] - 0s 2ms/step - loss: 0.3628 - accuracy: 0.8288\n",
      "Epoch 95/100\n",
      "165/165 [==============================] - 0s 2ms/step - loss: 0.3626 - accuracy: 0.8278\n",
      "Epoch 96/100\n",
      "165/165 [==============================] - 0s 1ms/step - loss: 0.3614 - accuracy: 0.8301\n",
      "Epoch 97/100\n",
      "165/165 [==============================] - 0s 2ms/step - loss: 0.3643 - accuracy: 0.8282\n",
      "Epoch 98/100\n",
      "165/165 [==============================] - 0s 2ms/step - loss: 0.3621 - accuracy: 0.8307\n",
      "Epoch 99/100\n",
      "165/165 [==============================] - 0s 2ms/step - loss: 0.3617 - accuracy: 0.8307\n",
      "Epoch 100/100\n",
      "165/165 [==============================] - 0s 2ms/step - loss: 0.3619 - accuracy: 0.8299\n"
     ]
    },
    {
     "data": {
      "text/plain": [
       "<keras.src.callbacks.History at 0x22214b498d0>"
      ]
     },
     "execution_count": 122,
     "metadata": {},
     "output_type": "execute_result"
    }
   ],
   "source": [
    "from tensorflow import keras\n",
    "model=keras.Sequential([\n",
    "    keras.layers.Dense(20,input_shape=(26,),activation=\"relu\"),\n",
    "    keras.layers.Dense(15,activation=\"relu\"),\n",
    "    keras.layers.Dense(1,activation=\"sigmoid\"),\n",
    "])\n",
    "model.compile(optimizer=\"adam\",loss=\"binary_crossentropy\",metrics=[\"accuracy\"])\n",
    "model.fit(x_train,y_train,epochs=100)"
   ]
  },
  {
   "cell_type": "code",
   "execution_count": 123,
   "id": "c9f0be4e",
   "metadata": {},
   "outputs": [
    {
     "name": "stdout",
     "output_type": "stream",
     "text": [
      "55/55 [==============================] - 0s 1ms/step - loss: 0.4827 - accuracy: 0.7696\n"
     ]
    },
    {
     "data": {
      "text/plain": [
       "[0.48271819949150085, 0.7696245908737183]"
      ]
     },
     "execution_count": 123,
     "metadata": {},
     "output_type": "execute_result"
    }
   ],
   "source": [
    "model.evaluate(x_test,y_test)"
   ]
  },
  {
   "cell_type": "code",
   "execution_count": 124,
   "id": "3c717451",
   "metadata": {},
   "outputs": [
    {
     "name": "stdout",
     "output_type": "stream",
     "text": [
      "55/55 [==============================] - 0s 1ms/step\n"
     ]
    }
   ],
   "source": [
    "y_predicted=model.predict(x_test)"
   ]
  },
  {
   "cell_type": "code",
   "execution_count": 125,
   "id": "150efa7d",
   "metadata": {},
   "outputs": [
    {
     "data": {
      "text/plain": [
       "array([[0.12423152],\n",
       "       [0.6679544 ],\n",
       "       [0.00832998],\n",
       "       [0.81282544],\n",
       "       [0.3602859 ]], dtype=float32)"
      ]
     },
     "execution_count": 125,
     "metadata": {},
     "output_type": "execute_result"
    }
   ],
   "source": [
    "y_predicted[:5]"
   ]
  },
  {
   "cell_type": "code",
   "execution_count": 126,
   "id": "32911c1f",
   "metadata": {},
   "outputs": [
    {
     "data": {
      "text/plain": [
       "<tf.Tensor: shape=(5,), dtype=float32, numpy=array([0., 0., 1., 1., 1.], dtype=float32)>"
      ]
     },
     "execution_count": 126,
     "metadata": {},
     "output_type": "execute_result"
    }
   ],
   "source": [
    "y_test[:5]"
   ]
  },
  {
   "cell_type": "code",
   "execution_count": 127,
   "id": "c261e675",
   "metadata": {},
   "outputs": [],
   "source": [
    "y_predicted_final=[1 if i>0.5 else 0 for i in y_predicted]"
   ]
  },
  {
   "cell_type": "code",
   "execution_count": 130,
   "id": "5d4b845d",
   "metadata": {},
   "outputs": [
    {
     "data": {
      "text/plain": [
       "[0, 1, 0, 1]"
      ]
     },
     "execution_count": 130,
     "metadata": {},
     "output_type": "execute_result"
    }
   ],
   "source": [
    "y_predicted_final[:4]"
   ]
  },
  {
   "cell_type": "code",
   "execution_count": 131,
   "id": "77684507",
   "metadata": {},
   "outputs": [
    {
     "name": "stdout",
     "output_type": "stream",
     "text": [
      "              precision    recall  f1-score   support\n",
      "\n",
      "         0.0       0.84      0.84      0.84      1267\n",
      "         1.0       0.59      0.58      0.59       491\n",
      "\n",
      "    accuracy                           0.77      1758\n",
      "   macro avg       0.71      0.71      0.71      1758\n",
      "weighted avg       0.77      0.77      0.77      1758\n",
      "\n"
     ]
    }
   ],
   "source": [
    "from sklearn.metrics import classification_report\n",
    "print(classification_report(y_test,y_predicted_final))"
   ]
  },
  {
   "cell_type": "markdown",
   "id": "9660d750",
   "metadata": {},
   "source": [
    "## Handling imbalanced dataset"
   ]
  },
  {
   "cell_type": "code",
   "execution_count": 132,
   "id": "67c6ff0b",
   "metadata": {
    "scrolled": true
   },
   "outputs": [
    {
     "data": {
      "text/plain": [
       "(5163, 1869)"
      ]
     },
     "execution_count": 132,
     "metadata": {},
     "output_type": "execute_result"
    }
   ],
   "source": [
    "class_count_0,class_count_1=df1.Churn.value_counts()\n",
    "class_count_0,class_count_1"
   ]
  },
  {
   "cell_type": "code",
   "execution_count": null,
   "id": "ee50e8d1",
   "metadata": {},
   "outputs": [],
   "source": []
  },
  {
   "cell_type": "code",
   "execution_count": 133,
   "id": "0cd69614",
   "metadata": {},
   "outputs": [
    {
     "data": {
      "text/plain": [
       "(1869, 27)"
      ]
     },
     "execution_count": 133,
     "metadata": {},
     "output_type": "execute_result"
    }
   ],
   "source": [
    "df_cls_0=df2[df2[\"Churn\"]==0]\n",
    "df_cls_1=df2[df2[\"Churn\"]==1]\n",
    "df_cls_0.shape\n",
    "df_cls_1.shape"
   ]
  },
  {
   "cell_type": "code",
   "execution_count": 134,
   "id": "f16f691e",
   "metadata": {},
   "outputs": [
    {
     "data": {
      "text/plain": [
       "(3738, 27)"
      ]
     },
     "execution_count": 134,
     "metadata": {},
     "output_type": "execute_result"
    }
   ],
   "source": [
    "df_0_under=df_cls_0.sample(class_count_1)\n",
    "df_under=pd.concat([df_0_under,df_cls_1],axis=0)\n",
    "df_under.shape"
   ]
  },
  {
   "cell_type": "code",
   "execution_count": 135,
   "id": "09cc1e47",
   "metadata": {},
   "outputs": [
    {
     "data": {
      "text/plain": [
       "(1869, 1869)"
      ]
     },
     "execution_count": 135,
     "metadata": {},
     "output_type": "execute_result"
    }
   ],
   "source": [
    "new_class_count_0,new_class_count_1=df_under[\"Churn\"].value_counts()\n",
    "new_class_count_0,new_class_count_1"
   ]
  },
  {
   "cell_type": "code",
   "execution_count": 136,
   "id": "e83b7c55",
   "metadata": {},
   "outputs": [],
   "source": [
    "X=df_under.drop(\"Churn\",axis=1)\n",
    "Y=df_under[\"Churn\"]"
   ]
  },
  {
   "cell_type": "code",
   "execution_count": 137,
   "id": "6923cff8",
   "metadata": {},
   "outputs": [],
   "source": [
    "\n",
    "X_train,X_test,Y_train,Y_test=train_test_split(X,Y,random_state=5,stratify=Y)"
   ]
  },
  {
   "cell_type": "code",
   "execution_count": 138,
   "id": "aae98d68",
   "metadata": {},
   "outputs": [],
   "source": [
    "X_train = tensorflow.convert_to_tensor(X_train, dtype=tensorflow.float32)\n",
    "Y_train = tensorflow.convert_to_tensor(Y_train, dtype=tensorflow.float32)\n",
    "X_test = tensorflow.convert_to_tensor(X_test, dtype=tensorflow.float32)\n",
    "Y_test = tensorflow.convert_to_tensor(Y_test, dtype=tensorflow.float32)"
   ]
  },
  {
   "cell_type": "code",
   "execution_count": 139,
   "id": "c639a806",
   "metadata": {},
   "outputs": [],
   "source": [
    "def ANN(x_train,x_test,y_train,y_test,loss,weights):\n",
    "    model=keras.Sequential([\n",
    "    keras.layers.Dense(20,input_shape=(26,),activation=\"relu\"),\n",
    "    keras.layers.Dense(15,activation=\"relu\"),\n",
    "    keras.layers.Dense(1,activation=\"sigmoid\"),\n",
    "    ])\n",
    "    \n",
    "    model.compile(optimizer=\"adam\",loss=loss,metrics=[\"accuracy\"])\n",
    "    if weights==-1:\n",
    "        model.fit(x_train,y_train,epochs=100)\n",
    "    else:\n",
    "        model.fit(x_train,y_train,epochs=100,class_weights=weights)\n",
    "    y_preds=model.predict(x_test)\n",
    "    y_preds=np.round(y_preds)\n",
    "    print(model.evaluate(x_test,y_test))\n",
    "    y_predicted_final=[1 if i>0.5 else 0 for i in y_preds]\n",
    "    print(classification_report(y_test,y_predicted_final))\n",
    "    \n",
    "    return y_preds"
   ]
  },
  {
   "cell_type": "code",
   "execution_count": null,
   "id": "f266a56c",
   "metadata": {},
   "outputs": [],
   "source": []
  },
  {
   "cell_type": "code",
   "execution_count": 140,
   "id": "bc618092",
   "metadata": {},
   "outputs": [
    {
     "name": "stdout",
     "output_type": "stream",
     "text": [
      "Epoch 1/100\n",
      "88/88 [==============================] - 1s 2ms/step - loss: 0.6070 - accuracy: 0.6957\n",
      "Epoch 2/100\n",
      "88/88 [==============================] - 0s 2ms/step - loss: 0.5375 - accuracy: 0.7488\n",
      "Epoch 3/100\n",
      "88/88 [==============================] - 0s 2ms/step - loss: 0.5166 - accuracy: 0.7528\n",
      "Epoch 4/100\n",
      "88/88 [==============================] - 0s 2ms/step - loss: 0.5071 - accuracy: 0.7563\n",
      "Epoch 5/100\n",
      "88/88 [==============================] - 0s 2ms/step - loss: 0.5000 - accuracy: 0.7617\n",
      "Epoch 6/100\n",
      "88/88 [==============================] - 0s 2ms/step - loss: 0.4968 - accuracy: 0.7653\n",
      "Epoch 7/100\n",
      "88/88 [==============================] - 0s 2ms/step - loss: 0.4927 - accuracy: 0.7649\n",
      "Epoch 8/100\n",
      "88/88 [==============================] - 0s 2ms/step - loss: 0.4922 - accuracy: 0.7645\n",
      "Epoch 9/100\n",
      "88/88 [==============================] - 0s 2ms/step - loss: 0.4881 - accuracy: 0.7610\n",
      "Epoch 10/100\n",
      "88/88 [==============================] - 0s 2ms/step - loss: 0.4865 - accuracy: 0.7699\n",
      "Epoch 11/100\n",
      "88/88 [==============================] - 0s 2ms/step - loss: 0.4849 - accuracy: 0.7720\n",
      "Epoch 12/100\n",
      "88/88 [==============================] - 0s 2ms/step - loss: 0.4837 - accuracy: 0.7635\n",
      "Epoch 13/100\n",
      "88/88 [==============================] - 0s 2ms/step - loss: 0.4815 - accuracy: 0.7681\n",
      "Epoch 14/100\n",
      "88/88 [==============================] - 0s 2ms/step - loss: 0.4807 - accuracy: 0.7667\n",
      "Epoch 15/100\n",
      "88/88 [==============================] - 0s 2ms/step - loss: 0.4775 - accuracy: 0.7713\n",
      "Epoch 16/100\n",
      "88/88 [==============================] - 0s 2ms/step - loss: 0.4779 - accuracy: 0.7695\n",
      "Epoch 17/100\n",
      "88/88 [==============================] - 0s 2ms/step - loss: 0.4754 - accuracy: 0.7738\n",
      "Epoch 18/100\n",
      "88/88 [==============================] - 0s 2ms/step - loss: 0.4752 - accuracy: 0.7720\n",
      "Epoch 19/100\n",
      "88/88 [==============================] - 0s 2ms/step - loss: 0.4730 - accuracy: 0.7767\n",
      "Epoch 20/100\n",
      "88/88 [==============================] - 0s 2ms/step - loss: 0.4717 - accuracy: 0.7727\n",
      "Epoch 21/100\n",
      "88/88 [==============================] - 0s 2ms/step - loss: 0.4722 - accuracy: 0.7774\n",
      "Epoch 22/100\n",
      "88/88 [==============================] - 0s 2ms/step - loss: 0.4697 - accuracy: 0.7774\n",
      "Epoch 23/100\n",
      "88/88 [==============================] - 0s 2ms/step - loss: 0.4686 - accuracy: 0.7760\n",
      "Epoch 24/100\n",
      "88/88 [==============================] - 0s 2ms/step - loss: 0.4659 - accuracy: 0.7824\n",
      "Epoch 25/100\n",
      "88/88 [==============================] - 0s 2ms/step - loss: 0.4664 - accuracy: 0.7824\n",
      "Epoch 26/100\n",
      "88/88 [==============================] - 0s 2ms/step - loss: 0.4658 - accuracy: 0.7770\n",
      "Epoch 27/100\n",
      "88/88 [==============================] - 0s 2ms/step - loss: 0.4632 - accuracy: 0.7781\n",
      "Epoch 28/100\n",
      "88/88 [==============================] - 0s 2ms/step - loss: 0.4632 - accuracy: 0.7817\n",
      "Epoch 29/100\n",
      "88/88 [==============================] - 0s 2ms/step - loss: 0.4609 - accuracy: 0.7817\n",
      "Epoch 30/100\n",
      "88/88 [==============================] - 0s 2ms/step - loss: 0.4588 - accuracy: 0.7867\n",
      "Epoch 31/100\n",
      "88/88 [==============================] - 0s 2ms/step - loss: 0.4591 - accuracy: 0.7824\n",
      "Epoch 32/100\n",
      "88/88 [==============================] - 0s 2ms/step - loss: 0.4586 - accuracy: 0.7856\n",
      "Epoch 33/100\n",
      "88/88 [==============================] - 0s 2ms/step - loss: 0.4569 - accuracy: 0.7863\n",
      "Epoch 34/100\n",
      "88/88 [==============================] - 0s 2ms/step - loss: 0.4549 - accuracy: 0.7870\n",
      "Epoch 35/100\n",
      "88/88 [==============================] - 0s 2ms/step - loss: 0.4540 - accuracy: 0.7892\n",
      "Epoch 36/100\n",
      "88/88 [==============================] - 0s 2ms/step - loss: 0.4544 - accuracy: 0.7892\n",
      "Epoch 37/100\n",
      "88/88 [==============================] - 0s 2ms/step - loss: 0.4518 - accuracy: 0.7888\n",
      "Epoch 38/100\n",
      "88/88 [==============================] - 0s 2ms/step - loss: 0.4515 - accuracy: 0.7881\n",
      "Epoch 39/100\n",
      "88/88 [==============================] - 0s 2ms/step - loss: 0.4514 - accuracy: 0.7867\n",
      "Epoch 40/100\n",
      "88/88 [==============================] - 0s 2ms/step - loss: 0.4506 - accuracy: 0.7906\n",
      "Epoch 41/100\n",
      "88/88 [==============================] - 0s 2ms/step - loss: 0.4487 - accuracy: 0.7881\n",
      "Epoch 42/100\n",
      "88/88 [==============================] - 0s 2ms/step - loss: 0.4476 - accuracy: 0.7906\n",
      "Epoch 43/100\n",
      "88/88 [==============================] - 0s 2ms/step - loss: 0.4466 - accuracy: 0.7920\n",
      "Epoch 44/100\n",
      "88/88 [==============================] - 0s 2ms/step - loss: 0.4461 - accuracy: 0.7927\n",
      "Epoch 45/100\n",
      "88/88 [==============================] - 0s 2ms/step - loss: 0.4447 - accuracy: 0.7927\n",
      "Epoch 46/100\n",
      "88/88 [==============================] - 0s 2ms/step - loss: 0.4436 - accuracy: 0.7888\n",
      "Epoch 47/100\n",
      "88/88 [==============================] - 0s 2ms/step - loss: 0.4426 - accuracy: 0.7920\n",
      "Epoch 48/100\n",
      "88/88 [==============================] - 0s 2ms/step - loss: 0.4428 - accuracy: 0.7931\n",
      "Epoch 49/100\n",
      "88/88 [==============================] - 0s 2ms/step - loss: 0.4423 - accuracy: 0.7902\n",
      "Epoch 50/100\n",
      "88/88 [==============================] - 0s 2ms/step - loss: 0.4412 - accuracy: 0.7906\n",
      "Epoch 51/100\n",
      "88/88 [==============================] - 0s 2ms/step - loss: 0.4407 - accuracy: 0.7924\n",
      "Epoch 52/100\n",
      "88/88 [==============================] - 0s 2ms/step - loss: 0.4397 - accuracy: 0.7870\n",
      "Epoch 53/100\n",
      "88/88 [==============================] - 0s 2ms/step - loss: 0.4386 - accuracy: 0.7934\n",
      "Epoch 54/100\n",
      "88/88 [==============================] - 0s 2ms/step - loss: 0.4376 - accuracy: 0.7949\n",
      "Epoch 55/100\n",
      "88/88 [==============================] - 0s 2ms/step - loss: 0.4360 - accuracy: 0.7941\n",
      "Epoch 56/100\n",
      "88/88 [==============================] - 0s 2ms/step - loss: 0.4355 - accuracy: 0.7941\n",
      "Epoch 57/100\n",
      "88/88 [==============================] - 0s 2ms/step - loss: 0.4356 - accuracy: 0.7934\n",
      "Epoch 58/100\n",
      "88/88 [==============================] - 0s 2ms/step - loss: 0.4355 - accuracy: 0.7984\n",
      "Epoch 59/100\n",
      "88/88 [==============================] - 0s 2ms/step - loss: 0.4333 - accuracy: 0.7959\n",
      "Epoch 60/100\n",
      "88/88 [==============================] - 0s 2ms/step - loss: 0.4324 - accuracy: 0.7945\n",
      "Epoch 61/100\n",
      "88/88 [==============================] - 0s 2ms/step - loss: 0.4320 - accuracy: 0.7952\n",
      "Epoch 62/100\n",
      "88/88 [==============================] - 0s 2ms/step - loss: 0.4306 - accuracy: 0.7966\n",
      "Epoch 63/100\n",
      "88/88 [==============================] - 0s 2ms/step - loss: 0.4321 - accuracy: 0.7999\n",
      "Epoch 64/100\n",
      "88/88 [==============================] - 0s 2ms/step - loss: 0.4293 - accuracy: 0.7963\n",
      "Epoch 65/100\n",
      "88/88 [==============================] - 0s 2ms/step - loss: 0.4288 - accuracy: 0.7945\n",
      "Epoch 66/100\n",
      "88/88 [==============================] - 0s 2ms/step - loss: 0.4306 - accuracy: 0.8027\n",
      "Epoch 67/100\n",
      "88/88 [==============================] - 0s 2ms/step - loss: 0.4284 - accuracy: 0.8016\n",
      "Epoch 68/100\n",
      "88/88 [==============================] - 0s 2ms/step - loss: 0.4260 - accuracy: 0.8016\n",
      "Epoch 69/100\n",
      "88/88 [==============================] - 0s 2ms/step - loss: 0.4279 - accuracy: 0.7981\n",
      "Epoch 70/100\n",
      "88/88 [==============================] - 0s 2ms/step - loss: 0.4243 - accuracy: 0.8027\n",
      "Epoch 71/100\n",
      "88/88 [==============================] - 0s 2ms/step - loss: 0.4245 - accuracy: 0.7999\n",
      "Epoch 72/100\n",
      "88/88 [==============================] - 0s 2ms/step - loss: 0.4230 - accuracy: 0.8052\n",
      "Epoch 73/100\n",
      "88/88 [==============================] - 0s 2ms/step - loss: 0.4237 - accuracy: 0.8002\n",
      "Epoch 74/100\n",
      "88/88 [==============================] - 0s 2ms/step - loss: 0.4229 - accuracy: 0.7999\n",
      "Epoch 75/100\n",
      "88/88 [==============================] - 0s 2ms/step - loss: 0.4217 - accuracy: 0.8059\n",
      "Epoch 76/100\n",
      "88/88 [==============================] - 0s 2ms/step - loss: 0.4196 - accuracy: 0.8063\n",
      "Epoch 77/100\n",
      "88/88 [==============================] - 0s 2ms/step - loss: 0.4205 - accuracy: 0.7988\n",
      "Epoch 78/100\n",
      "88/88 [==============================] - 0s 2ms/step - loss: 0.4193 - accuracy: 0.8088\n",
      "Epoch 79/100\n",
      "88/88 [==============================] - 0s 2ms/step - loss: 0.4196 - accuracy: 0.8027\n",
      "Epoch 80/100\n",
      "88/88 [==============================] - 0s 2ms/step - loss: 0.4180 - accuracy: 0.8056\n",
      "Epoch 81/100\n",
      "88/88 [==============================] - 0s 2ms/step - loss: 0.4164 - accuracy: 0.8006\n",
      "Epoch 82/100\n",
      "88/88 [==============================] - 0s 2ms/step - loss: 0.4154 - accuracy: 0.8084\n",
      "Epoch 83/100\n"
     ]
    },
    {
     "name": "stdout",
     "output_type": "stream",
     "text": [
      "88/88 [==============================] - 0s 2ms/step - loss: 0.4150 - accuracy: 0.8009\n",
      "Epoch 84/100\n",
      "88/88 [==============================] - 0s 2ms/step - loss: 0.4152 - accuracy: 0.8081\n",
      "Epoch 85/100\n",
      "88/88 [==============================] - 0s 2ms/step - loss: 0.4127 - accuracy: 0.8077\n",
      "Epoch 86/100\n",
      "88/88 [==============================] - 0s 2ms/step - loss: 0.4112 - accuracy: 0.8077\n",
      "Epoch 87/100\n",
      "88/88 [==============================] - 0s 2ms/step - loss: 0.4115 - accuracy: 0.8088\n",
      "Epoch 88/100\n",
      "88/88 [==============================] - 0s 2ms/step - loss: 0.4133 - accuracy: 0.8063\n",
      "Epoch 89/100\n",
      "88/88 [==============================] - 0s 2ms/step - loss: 0.4087 - accuracy: 0.8127\n",
      "Epoch 90/100\n",
      "88/88 [==============================] - 0s 2ms/step - loss: 0.4088 - accuracy: 0.8109\n",
      "Epoch 91/100\n",
      "88/88 [==============================] - 0s 2ms/step - loss: 0.4082 - accuracy: 0.8141\n",
      "Epoch 92/100\n",
      "88/88 [==============================] - 0s 2ms/step - loss: 0.4074 - accuracy: 0.8116\n",
      "Epoch 93/100\n",
      "88/88 [==============================] - 0s 2ms/step - loss: 0.4066 - accuracy: 0.8106\n",
      "Epoch 94/100\n",
      "88/88 [==============================] - 0s 2ms/step - loss: 0.4054 - accuracy: 0.8127\n",
      "Epoch 95/100\n",
      "88/88 [==============================] - 0s 2ms/step - loss: 0.4054 - accuracy: 0.8138\n",
      "Epoch 96/100\n",
      "88/88 [==============================] - 0s 2ms/step - loss: 0.4037 - accuracy: 0.8131\n",
      "Epoch 97/100\n",
      "88/88 [==============================] - 0s 2ms/step - loss: 0.4038 - accuracy: 0.8141\n",
      "Epoch 98/100\n",
      "88/88 [==============================] - 0s 2ms/step - loss: 0.4014 - accuracy: 0.8145\n",
      "Epoch 99/100\n",
      "88/88 [==============================] - 0s 2ms/step - loss: 0.4006 - accuracy: 0.8141\n",
      "Epoch 100/100\n",
      "88/88 [==============================] - 0s 2ms/step - loss: 0.4031 - accuracy: 0.8148\n",
      "30/30 [==============================] - 0s 1ms/step\n",
      "30/30 [==============================] - 0s 1ms/step - loss: 0.5128 - accuracy: 0.7626\n",
      "[0.5127763152122498, 0.762566864490509]\n",
      "              precision    recall  f1-score   support\n",
      "\n",
      "         0.0       0.77      0.74      0.76       467\n",
      "         1.0       0.75      0.78      0.77       468\n",
      "\n",
      "    accuracy                           0.76       935\n",
      "   macro avg       0.76      0.76      0.76       935\n",
      "weighted avg       0.76      0.76      0.76       935\n",
      "\n"
     ]
    }
   ],
   "source": [
    "y_preds=ANN(X_train,X_test,Y_train,Y_test,\"binary_crossentropy\",-1)\n"
   ]
  },
  {
   "cell_type": "markdown",
   "id": "bdc8565a",
   "metadata": {},
   "source": [
    "## Now let us try it using Logistic Regression"
   ]
  },
  {
   "cell_type": "code",
   "execution_count": 141,
   "id": "519d2f47",
   "metadata": {},
   "outputs": [],
   "source": [
    "from sklearn.linear_model import LogisticRegression"
   ]
  },
  {
   "cell_type": "code",
   "execution_count": 142,
   "id": "b5b480fc",
   "metadata": {},
   "outputs": [],
   "source": [
    "model_ls=LogisticRegression()\n"
   ]
  },
  {
   "cell_type": "code",
   "execution_count": 144,
   "id": "d20a12f3",
   "metadata": {},
   "outputs": [
    {
     "data": {
      "text/html": [
       "<style>#sk-container-id-2 {color: black;}#sk-container-id-2 pre{padding: 0;}#sk-container-id-2 div.sk-toggleable {background-color: white;}#sk-container-id-2 label.sk-toggleable__label {cursor: pointer;display: block;width: 100%;margin-bottom: 0;padding: 0.3em;box-sizing: border-box;text-align: center;}#sk-container-id-2 label.sk-toggleable__label-arrow:before {content: \"▸\";float: left;margin-right: 0.25em;color: #696969;}#sk-container-id-2 label.sk-toggleable__label-arrow:hover:before {color: black;}#sk-container-id-2 div.sk-estimator:hover label.sk-toggleable__label-arrow:before {color: black;}#sk-container-id-2 div.sk-toggleable__content {max-height: 0;max-width: 0;overflow: hidden;text-align: left;background-color: #f0f8ff;}#sk-container-id-2 div.sk-toggleable__content pre {margin: 0.2em;color: black;border-radius: 0.25em;background-color: #f0f8ff;}#sk-container-id-2 input.sk-toggleable__control:checked~div.sk-toggleable__content {max-height: 200px;max-width: 100%;overflow: auto;}#sk-container-id-2 input.sk-toggleable__control:checked~label.sk-toggleable__label-arrow:before {content: \"▾\";}#sk-container-id-2 div.sk-estimator input.sk-toggleable__control:checked~label.sk-toggleable__label {background-color: #d4ebff;}#sk-container-id-2 div.sk-label input.sk-toggleable__control:checked~label.sk-toggleable__label {background-color: #d4ebff;}#sk-container-id-2 input.sk-hidden--visually {border: 0;clip: rect(1px 1px 1px 1px);clip: rect(1px, 1px, 1px, 1px);height: 1px;margin: -1px;overflow: hidden;padding: 0;position: absolute;width: 1px;}#sk-container-id-2 div.sk-estimator {font-family: monospace;background-color: #f0f8ff;border: 1px dotted black;border-radius: 0.25em;box-sizing: border-box;margin-bottom: 0.5em;}#sk-container-id-2 div.sk-estimator:hover {background-color: #d4ebff;}#sk-container-id-2 div.sk-parallel-item::after {content: \"\";width: 100%;border-bottom: 1px solid gray;flex-grow: 1;}#sk-container-id-2 div.sk-label:hover label.sk-toggleable__label {background-color: #d4ebff;}#sk-container-id-2 div.sk-serial::before {content: \"\";position: absolute;border-left: 1px solid gray;box-sizing: border-box;top: 0;bottom: 0;left: 50%;z-index: 0;}#sk-container-id-2 div.sk-serial {display: flex;flex-direction: column;align-items: center;background-color: white;padding-right: 0.2em;padding-left: 0.2em;position: relative;}#sk-container-id-2 div.sk-item {position: relative;z-index: 1;}#sk-container-id-2 div.sk-parallel {display: flex;align-items: stretch;justify-content: center;background-color: white;position: relative;}#sk-container-id-2 div.sk-item::before, #sk-container-id-2 div.sk-parallel-item::before {content: \"\";position: absolute;border-left: 1px solid gray;box-sizing: border-box;top: 0;bottom: 0;left: 50%;z-index: -1;}#sk-container-id-2 div.sk-parallel-item {display: flex;flex-direction: column;z-index: 1;position: relative;background-color: white;}#sk-container-id-2 div.sk-parallel-item:first-child::after {align-self: flex-end;width: 50%;}#sk-container-id-2 div.sk-parallel-item:last-child::after {align-self: flex-start;width: 50%;}#sk-container-id-2 div.sk-parallel-item:only-child::after {width: 0;}#sk-container-id-2 div.sk-dashed-wrapped {border: 1px dashed gray;margin: 0 0.4em 0.5em 0.4em;box-sizing: border-box;padding-bottom: 0.4em;background-color: white;}#sk-container-id-2 div.sk-label label {font-family: monospace;font-weight: bold;display: inline-block;line-height: 1.2em;}#sk-container-id-2 div.sk-label-container {text-align: center;}#sk-container-id-2 div.sk-container {/* jupyter's `normalize.less` sets `[hidden] { display: none; }` but bootstrap.min.css set `[hidden] { display: none !important; }` so we also need the `!important` here to be able to override the default hidden behavior on the sphinx rendered scikit-learn.org. See: https://github.com/scikit-learn/scikit-learn/issues/21755 */display: inline-block !important;position: relative;}#sk-container-id-2 div.sk-text-repr-fallback {display: none;}</style><div id=\"sk-container-id-2\" class=\"sk-top-container\"><div class=\"sk-text-repr-fallback\"><pre>LogisticRegression()</pre><b>In a Jupyter environment, please rerun this cell to show the HTML representation or trust the notebook. <br />On GitHub, the HTML representation is unable to render, please try loading this page with nbviewer.org.</b></div><div class=\"sk-container\" hidden><div class=\"sk-item\"><div class=\"sk-estimator sk-toggleable\"><input class=\"sk-toggleable__control sk-hidden--visually\" id=\"sk-estimator-id-2\" type=\"checkbox\" checked><label for=\"sk-estimator-id-2\" class=\"sk-toggleable__label sk-toggleable__label-arrow\">LogisticRegression</label><div class=\"sk-toggleable__content\"><pre>LogisticRegression()</pre></div></div></div></div></div>"
      ],
      "text/plain": [
       "LogisticRegression()"
      ]
     },
     "execution_count": 144,
     "metadata": {},
     "output_type": "execute_result"
    }
   ],
   "source": [
    "model_ls.fit(X_train,Y_train)"
   ]
  },
  {
   "cell_type": "code",
   "execution_count": 145,
   "id": "3a7a6c78",
   "metadata": {},
   "outputs": [
    {
     "name": "stdout",
     "output_type": "stream",
     "text": [
      "0.7764705882352941\n"
     ]
    }
   ],
   "source": [
    "print(model_ls.score(X_test,Y_test))"
   ]
  },
  {
   "cell_type": "code",
   "execution_count": 149,
   "id": "3d233782",
   "metadata": {},
   "outputs": [
    {
     "data": {
      "text/plain": [
       "(935, 935)"
      ]
     },
     "execution_count": 149,
     "metadata": {},
     "output_type": "execute_result"
    }
   ],
   "source": [
    "y_preds_ls=model_ls.predict(X_test)\n",
    "len(y_preds_ls),len(Y_test)"
   ]
  },
  {
   "cell_type": "code",
   "execution_count": 151,
   "id": "acba0073",
   "metadata": {},
   "outputs": [
    {
     "data": {
      "text/plain": [
       "935"
      ]
     },
     "execution_count": 151,
     "metadata": {},
     "output_type": "execute_result"
    }
   ],
   "source": [
    "len(X_test)"
   ]
  },
  {
   "cell_type": "code",
   "execution_count": 148,
   "id": "0ce3f6d3",
   "metadata": {},
   "outputs": [
    {
     "name": "stdout",
     "output_type": "stream",
     "text": [
      "              precision    recall  f1-score   support\n",
      "\n",
      "         0.0       0.80      0.74      0.77       467\n",
      "         1.0       0.76      0.81      0.78       468\n",
      "\n",
      "    accuracy                           0.78       935\n",
      "   macro avg       0.78      0.78      0.78       935\n",
      "weighted avg       0.78      0.78      0.78       935\n",
      "\n"
     ]
    }
   ],
   "source": [
    "print(classification_report(Y_test,y_preds_ls))"
   ]
  },
  {
   "cell_type": "code",
   "execution_count": null,
   "id": "483fe5dd",
   "metadata": {},
   "outputs": [],
   "source": []
  }
 ],
 "metadata": {
  "kernelspec": {
   "display_name": "Python 3 (ipykernel)",
   "language": "python",
   "name": "python3"
  },
  "language_info": {
   "codemirror_mode": {
    "name": "ipython",
    "version": 3
   },
   "file_extension": ".py",
   "mimetype": "text/x-python",
   "name": "python",
   "nbconvert_exporter": "python",
   "pygments_lexer": "ipython3",
   "version": "3.11.6"
  }
 },
 "nbformat": 4,
 "nbformat_minor": 5
}
