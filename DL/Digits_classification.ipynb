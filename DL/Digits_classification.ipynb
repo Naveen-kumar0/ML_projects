{
 "cells": [
  {
   "cell_type": "code",
   "execution_count": 3,
   "id": "634b7d7d",
   "metadata": {},
   "outputs": [
    {
     "data": {
      "text/plain": [
       "<function tensorflow.python.ops.losses.losses_impl.sparse_softmax_cross_entropy(labels, logits, weights=1.0, scope=None, loss_collection='losses', reduction='weighted_sum_by_nonzero_weights')>"
      ]
     },
     "execution_count": 3,
     "metadata": {},
     "output_type": "execute_result"
    }
   ],
   "source": [
    "tf.compat.v1.losses.sparse_softmax_cross_entropy\n"
   ]
  },
  {
   "cell_type": "code",
   "execution_count": 4,
   "id": "1345b03f",
   "metadata": {},
   "outputs": [],
   "source": [
    "import tensorflow as tf\n",
    "from tensorflow import keras\n",
    "import matplotlib.pyplot as plt\n",
    "%matplotlib inline\n",
    "import numpy as np\n"
   ]
  },
  {
   "cell_type": "code",
   "execution_count": 5,
   "id": "2bc10e10",
   "metadata": {},
   "outputs": [
    {
     "name": "stdout",
     "output_type": "stream",
     "text": [
      "Downloading data from https://storage.googleapis.com/tensorflow/tf-keras-datasets/mnist.npz\n",
      "11490434/11490434 [==============================] - 3s 0us/step\n"
     ]
    }
   ],
   "source": [
    "(x_train,y_train),(x_test,y_test)=keras.datasets.mnist.load_data()"
   ]
  },
  {
   "cell_type": "code",
   "execution_count": 7,
   "id": "48e64bb2",
   "metadata": {},
   "outputs": [
    {
     "data": {
      "text/plain": [
       "60000"
      ]
     },
     "execution_count": 7,
     "metadata": {},
     "output_type": "execute_result"
    }
   ],
   "source": [
    "len(x_train)"
   ]
  },
  {
   "cell_type": "code",
   "execution_count": 8,
   "id": "34747cf7",
   "metadata": {},
   "outputs": [
    {
     "data": {
      "text/plain": [
       "10000"
      ]
     },
     "execution_count": 8,
     "metadata": {},
     "output_type": "execute_result"
    }
   ],
   "source": [
    "len(x_test)"
   ]
  },
  {
   "cell_type": "code",
   "execution_count": 12,
   "id": "6a0ff059",
   "metadata": {},
   "outputs": [
    {
     "data": {
      "text/plain": [
       "<matplotlib.image.AxesImage at 0x2913c8fe9d0>"
      ]
     },
     "execution_count": 12,
     "metadata": {},
     "output_type": "execute_result"
    },
    {
     "data": {
      "image/png": "[encoded data removed]",
      "text/plain": [
       "<Figure size 480x480 with 1 Axes>"
      ]
     },
     "metadata": {},
     "output_type": "display_data"
    }
   ],
   "source": [
    "plt.matshow(x_test[100])"
   ]
  },
  {
   "cell_type": "code",
   "execution_count": 13,
   "id": "ee758bf1",
   "metadata": {},
   "outputs": [
    {
     "data": {
      "text/plain": [
       "6"
      ]
     },
     "execution_count": 13,
     "metadata": {},
     "output_type": "execute_result"
    }
   ],
   "source": [
    "y_test[100]"
   ]
  },
  {
   "cell_type": "code",
   "execution_count": 22,
   "id": "ebc89aa9",
   "metadata": {},
   "outputs": [],
   "source": [
    "x_train=x_train/255\n",
    "x_test=x_test/255"
   ]
  },
  {
   "cell_type": "code",
   "execution_count": 23,
   "id": "c0af6cf2",
   "metadata": {},
   "outputs": [],
   "source": [
    "x_train_flattened=x_train.reshape(len(x_train),28*28)\n",
    "x_test_flattened=x_test.reshape(len(x_test),28*28)"
   ]
  },
  {
   "cell_type": "code",
   "execution_count": 24,
   "id": "950c587f",
   "metadata": {},
   "outputs": [
    {
     "data": {
      "text/plain": [
       "(60000, 784)"
      ]
     },
     "execution_count": 24,
     "metadata": {},
     "output_type": "execute_result"
    }
   ],
   "source": [
    "x_train_flattened.shape"
   ]
  },
  {
   "cell_type": "code",
   "execution_count": 26,
   "id": "84c133ff",
   "metadata": {},
   "outputs": [
    {
     "name": "stdout",
     "output_type": "stream",
     "text": [
      "Epoch 1/6\n",
      "WARNING:tensorflow:From C:\\Users\\Naveen\\miniconda3\\envs\\houseenv\\Lib\\site-packages\\keras\\src\\utils\\tf_utils.py:492: The name tf.ragged.RaggedTensorValue is deprecated. Please use tf.compat.v1.ragged.RaggedTensorValue instead.\n",
      "\n",
      "WARNING:tensorflow:From C:\\Users\\Naveen\\miniconda3\\envs\\houseenv\\Lib\\site-packages\\keras\\src\\engine\\base_layer_utils.py:384: The name tf.executing_eagerly_outside_functions is deprecated. Please use tf.compat.v1.executing_eagerly_outside_functions instead.\n",
      "\n",
      "1875/1875 [==============================] - 5s 2ms/step - loss: 0.4671 - accuracy: 0.8770\n",
      "Epoch 2/6\n",
      "1875/1875 [==============================] - 4s 2ms/step - loss: 0.3033 - accuracy: 0.9158\n",
      "Epoch 3/6\n",
      "1875/1875 [==============================] - 4s 2ms/step - loss: 0.2829 - accuracy: 0.9209\n",
      "Epoch 4/6\n",
      "1875/1875 [==============================] - 4s 2ms/step - loss: 0.2734 - accuracy: 0.9229\n",
      "Epoch 5/6\n",
      "1875/1875 [==============================] - 4s 2ms/step - loss: 0.2663 - accuracy: 0.9254\n",
      "Epoch 6/6\n",
      "1875/1875 [==============================] - 4s 2ms/step - loss: 0.2615 - accuracy: 0.9272\n"
     ]
    },
    {
     "data": {
      "text/plain": [
       "<keras.src.callbacks.History at 0x291395922d0>"
      ]
     },
     "execution_count": 26,
     "metadata": {},
     "output_type": "execute_result"
    }
   ],
   "source": [
    "model=keras.Sequential([\n",
    "    keras.layers.Dense(10,input_shape=(784,),activation=\"sigmoid\")\n",
    "])\n",
    "model.compile(optimizer=\"adam\",\n",
    "             loss=\"sparse_categorical_crossentropy\",\n",
    "             metrics=[\"accuracy\"])\n",
    "model.fit(x_train_flattened,y_train,epochs=6)"
   ]
  },
  {
   "cell_type": "code",
   "execution_count": 27,
   "id": "0372d3d3",
   "metadata": {},
   "outputs": [
    {
     "name": "stdout",
     "output_type": "stream",
     "text": [
      "313/313 [==============================] - 1s 2ms/step\n"
     ]
    }
   ],
   "source": [
    "y_predicted=model.predict(x_test_flattened)"
   ]
  },
  {
   "cell_type": "code",
   "execution_count": 28,
   "id": "952e5f29",
   "metadata": {},
   "outputs": [],
   "source": [
    "y_predicted_final=[np.argmax(i) for i in y_predicted]"
   ]
  },
  {
   "cell_type": "code",
   "execution_count": 30,
   "id": "50db5c9d",
   "metadata": {},
   "outputs": [
    {
     "data": {
      "text/plain": [
       "[7, 2, 1, 0, 4]"
      ]
     },
     "execution_count": 30,
     "metadata": {},
     "output_type": "execute_result"
    }
   ],
   "source": [
    "y_predicted_final[:5]"
   ]
  },
  {
   "cell_type": "code",
   "execution_count": 31,
   "id": "1f18b868",
   "metadata": {},
   "outputs": [
    {
     "data": {
      "text/plain": [
       "array([7, 2, 1, 0, 4], dtype=uint8)"
      ]
     },
     "execution_count": 31,
     "metadata": {},
     "output_type": "execute_result"
    }
   ],
   "source": [
    "y_test[:5]"
   ]
  },
  {
   "cell_type": "code",
   "execution_count": 36,
   "id": "5d351536",
   "metadata": {},
   "outputs": [
    {
     "data": {
      "text/plain": [
       "<matplotlib.image.AxesImage at 0x29181094910>"
      ]
     },
     "execution_count": 36,
     "metadata": {},
     "output_type": "execute_result"
    },
    {
     "data": {
      "image/png": "[encoded data removed]",
      "text/plain": [
       "<Figure size 480x480 with 1 Axes>"
      ]
     },
     "metadata": {},
     "output_type": "display_data"
    }
   ],
   "source": [
    "plt.matshow(x_test[0])"
   ]
  },
  {
   "cell_type": "code",
   "execution_count": 35,
   "id": "6038ffcb",
   "metadata": {},
   "outputs": [
    {
     "data": {
      "text/plain": [
       "<matplotlib.image.AxesImage at 0x2917ef6fd90>"
      ]
     },
     "execution_count": 35,
     "metadata": {},
     "output_type": "execute_result"
    },
    {
     "data": {
      "image/png": "[encoded data removed]",
      "text/plain": [
       "<Figure size 480x480 with 1 Axes>"
      ]
     },
     "metadata": {},
     "output_type": "display_data"
    }
   ],
   "source": [
    "temp=x_test[0]\n",
    "temp=temp*255\n",
    "plt.matshow(temp)"
   ]
  },
  {
   "cell_type": "code",
   "execution_count": 37,
   "id": "f8283d8a",
   "metadata": {},
   "outputs": [
    {
     "data": {
      "text/plain": [
       "<tf.Tensor: shape=(10, 10), dtype=int32, numpy=\n",
       "array([[ 968,    0,    1,    2,    0,    4,    2,    2,    1,    0],\n",
       "       [   0, 1118,    3,    2,    0,    1,    4,    2,    5,    0],\n",
       "       [   9,   10,  914,   23,   12,    1,   13,   10,   37,    3],\n",
       "       [   4,    0,   14,  937,    1,   17,    3,    9,   17,    8],\n",
       "       [   2,    1,    5,    2,  931,    0,    6,    4,    9,   22],\n",
       "       [  13,    3,    2,   47,   12,  755,   15,    7,   33,    5],\n",
       "       [  15,    3,    3,    2,    7,    9,  914,    2,    3,    0],\n",
       "       [   2,    9,   22,    9,   10,    0,    0,  938,    1,   37],\n",
       "       [  13,   15,    6,   30,    9,   22,    9,   11,  850,    9],\n",
       "       [  11,    8,    1,   13,   39,    5,    0,   18,    5,  909]])>"
      ]
     },
     "execution_count": 37,
     "metadata": {},
     "output_type": "execute_result"
    }
   ],
   "source": [
    "cm=tf.math.confusion_matrix(labels=y_test,predictions=y_predicted_final)\n",
    "cm"
   ]
  },
  {
   "cell_type": "code",
   "execution_count": null,
   "id": "00f07ef7",
   "metadata": {},
   "outputs": [],
   "source": []
  },
  {
   "cell_type": "code",
   "execution_count": 42,
   "id": "9b5d104a",
   "metadata": {},
   "outputs": [
    {
     "name": "stdout",
     "output_type": "stream",
     "text": [
      "Epoch 1/6\n",
      "1875/1875 [==============================] - 18s 9ms/step - loss: 1.4035 - accuracy: 0.5741\n",
      "Epoch 2/6\n",
      "1875/1875 [==============================] - 17s 9ms/step - loss: 0.8536 - accuracy: 0.5973\n",
      "Epoch 3/6\n",
      "1875/1875 [==============================] - 17s 9ms/step - loss: 0.5935 - accuracy: 0.7545\n",
      "Epoch 4/6\n",
      "1875/1875 [==============================] - 17s 9ms/step - loss: 0.2757 - accuracy: 0.9301\n",
      "Epoch 5/6\n",
      "1875/1875 [==============================] - 17s 9ms/step - loss: 0.1207 - accuracy: 0.9790\n",
      "Epoch 6/6\n",
      "1875/1875 [==============================] - 16s 9ms/step - loss: 0.0860 - accuracy: 0.9833\n"
     ]
    },
    {
     "data": {
      "text/plain": [
       "<keras.src.callbacks.History at 0x291830296d0>"
      ]
     },
     "execution_count": 42,
     "metadata": {},
     "output_type": "execute_result"
    }
   ],
   "source": [
    "model_with_hidden=keras.Sequential([\n",
    "    keras.layers.Dense(1000,input_shape=(784,),activation=\"relu\"),\n",
    "    keras.layers.Dense(100,input_shape=(784,),activation=\"softmax\"),\n",
    "    keras.layers.Dense(10,activation=\"sigmoid\")\n",
    "])\n",
    "model_with_hidden.compile(optimizer=\"adam\",\n",
    "             loss=\"sparse_categorical_crossentropy\",\n",
    "             metrics=[\"accuracy\"])\n",
    "model_with_hidden.fit(x_train_flattened,y_train,epochs=6)"
   ]
  },
  {
   "cell_type": "code",
   "execution_count": 43,
   "id": "2081ef88",
   "metadata": {},
   "outputs": [
    {
     "name": "stdout",
     "output_type": "stream",
     "text": [
      "313/313 [==============================] - 2s 4ms/step - loss: 0.1098 - accuracy: 0.9763\n"
     ]
    },
    {
     "data": {
      "text/plain": [
       "[0.1098283901810646, 0.9763000011444092]"
      ]
     },
     "execution_count": 43,
     "metadata": {},
     "output_type": "execute_result"
    }
   ],
   "source": [
    "model_with_hidden.evaluate(x_test_flattened,y_test)"
   ]
  },
  {
   "cell_type": "code",
   "execution_count": 45,
   "id": "56408901",
   "metadata": {},
   "outputs": [
    {
     "name": "stdout",
     "output_type": "stream",
     "text": [
      "313/313 [==============================] - 1s 2ms/step\n"
     ]
    },
    {
     "data": {
      "text/plain": [
       "<tf.Tensor: shape=(10, 10), dtype=int32, numpy=\n",
       "array([[ 968,    0,    1,    2,    0,    4,    2,    2,    1,    0],\n",
       "       [   0, 1118,    3,    2,    0,    1,    4,    2,    5,    0],\n",
       "       [   9,   10,  914,   23,   12,    1,   13,   10,   37,    3],\n",
       "       [   4,    0,   14,  937,    1,   17,    3,    9,   17,    8],\n",
       "       [   2,    1,    5,    2,  931,    0,    6,    4,    9,   22],\n",
       "       [  13,    3,    2,   47,   12,  755,   15,    7,   33,    5],\n",
       "       [  15,    3,    3,    2,    7,    9,  914,    2,    3,    0],\n",
       "       [   2,    9,   22,    9,   10,    0,    0,  938,    1,   37],\n",
       "       [  13,   15,    6,   30,    9,   22,    9,   11,  850,    9],\n",
       "       [  11,    8,    1,   13,   39,    5,    0,   18,    5,  909]])>"
      ]
     },
     "execution_count": 45,
     "metadata": {},
     "output_type": "execute_result"
    }
   ],
   "source": [
    "y_predicted_with_hidden=model.predict(x_test_flattened)\n",
    "y_predicted_hidden_final=[np.argmax(i) for i in y_predicted_with_hidden]\n",
    "cm_with_hidden=tf.math.confusion_matrix(labels=y_test,predictions=y_predicted_hidden_final)\n",
    "cm_with_hidden"
   ]
  },
  {
   "cell_type": "markdown",
   "id": "69367da4",
   "metadata": {},
   "source": [
    "##### Here insted of creating flattened array each and every time we can use the default method"
   ]
  },
  {
   "cell_type": "code",
   "execution_count": 46,
   "id": "afa5e58d",
   "metadata": {},
   "outputs": [
    {
     "name": "stdout",
     "output_type": "stream",
     "text": [
      "Epoch 1/6\n",
      "1875/1875 [==============================] - 19s 9ms/step - loss: 1.4548 - accuracy: 0.4857\n",
      "Epoch 2/6\n",
      "1875/1875 [==============================] - 17s 9ms/step - loss: 0.9647 - accuracy: 0.5251\n",
      "Epoch 3/6\n",
      "1875/1875 [==============================] - 17s 9ms/step - loss: 0.6844 - accuracy: 0.6612\n",
      "Epoch 4/6\n",
      "1875/1875 [==============================] - 17s 9ms/step - loss: 0.4616 - accuracy: 0.7895\n",
      "Epoch 5/6\n",
      "1875/1875 [==============================] - 17s 9ms/step - loss: 0.3672 - accuracy: 0.8088\n",
      "Epoch 6/6\n",
      "1875/1875 [==============================] - 17s 9ms/step - loss: 0.1955 - accuracy: 0.9591\n"
     ]
    },
    {
     "data": {
      "text/plain": [
       "<keras.src.callbacks.History at 0x2918650d250>"
      ]
     },
     "execution_count": 46,
     "metadata": {},
     "output_type": "execute_result"
    }
   ],
   "source": [
    "model_with_hiddenn=keras.Sequential([\n",
    "    keras.layers.Flatten(input_shape=(28,28)),\n",
    "    keras.layers.Dense(1000,activation=\"relu\"),\n",
    "    keras.layers.Dense(100,activation=\"softmax\"),\n",
    "    keras.layers.Dense(10,activation=\"sigmoid\")\n",
    "])\n",
    "model_with_hiddenn.compile(optimizer=\"adam\",\n",
    "             loss=\"sparse_categorical_crossentropy\",\n",
    "             metrics=[\"accuracy\"])\n",
    "model_with_hiddenn.fit(x_train,y_train,epochs=6)"
   ]
  },
  {
   "cell_type": "code",
   "execution_count": null,
   "id": "dc8dbd4b",
   "metadata": {},
   "outputs": [],
   "source": []
  }
 ],
 "metadata": {
  "kernelspec": {
   "display_name": "Python 3 (ipykernel)",
   "language": "python",
   "name": "python3"
  },
  "language_info": {
   "codemirror_mode": {
    "name": "ipython",
    "version": 3
   },
   "file_extension": ".py",
   "mimetype": "text/x-python",
   "name": "python",
   "nbconvert_exporter": "python",
   "pygments_lexer": "ipython3",
   "version": "3.11.6"
  }
 },
 "nbformat": 4,
 "nbformat_minor": 5
}
